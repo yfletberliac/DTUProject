{
 "cells": [
  {
   "cell_type": "code",
   "execution_count": 20,
   "metadata": {
    "collapsed": true
   },
   "outputs": [],
   "source": [
    "from __future__ import division\n",
    "import logging, gensim, bz2\n",
    "from gensim import corpora, models, similarities\n",
    "logging.basicConfig(format='%(asctime)s : %(levelname)s : %(message)s', level=logging.INFO)\n",
    "from bs4 import BeautifulSoup\n",
    "import nltk\n",
    "import re\n",
    "from nltk.corpus import stopwords\n",
    "import string\n",
    "import itertools\n",
    "import random\n",
    "exclude = set(string.punctuation)\n",
    "import matplotlib\n",
    "matplotlib.rcParams['figure.figsize'] = (18.0, 18.0)\n",
    "import numpy as np\n",
    "from lightning import Lightning\n",
    "from numpy import random, asarray\n",
    "import networkx as nx\n",
    "import math\n",
    "import random\n",
    "import pickle\n",
    "from nltk.stem.wordnet import WordNetLemmatizer\n",
    "import os\n",
    "import sys"
   ]
  },
  {
   "cell_type": "code",
   "execution_count": 27,
   "metadata": {
    "collapsed": true
   },
   "outputs": [],
   "source": [
    "import pickle\n",
    "import izi\n",
    "import random\n",
    "reload(izi)\n",
    "filelist = izi.getFileList(u\"all_source_texts/\")"
   ]
  },
  {
   "cell_type": "markdown",
   "metadata": {},
   "source": [
    "# topics names"
   ]
  },
  {
   "cell_type": "code",
   "execution_count": 28,
   "metadata": {
    "collapsed": false
   },
   "outputs": [],
   "source": [
    "topic_names = dict()\n",
    "for i in range(0,100):\n",
    "    topic_names[i] = i\n",
    "    \n",
    "topic_names[0] = \"space - sci fi\"\n",
    "topic_names[1] = \"american football\"\n",
    "topic_names[2] = \"design\"\n",
    "topic_names[3] = \"japan\"\n",
    "topic_names[4] = \"american eduacation\"\n",
    "topic_names[5] = \"north carolina\"\n",
    "topic_names[6] = \"cities - airports ?\"\n",
    "\n",
    "topic_names[72] = 'IT'\n",
    "topic_names[78] = 'positive words - marketing'\n",
    "topic_names[2] = 'design - clothing'\n",
    "topic_names[89] = 'nutrition'\n",
    "topic_names[41] = 'security - emergency'\n",
    "topic_names[64] = 'colors - nature'\n",
    "topic_names[83] = 'food'\n",
    "topic_names[55] = 'clothes - materials'\n",
    "topic_names[77] = 'TV - people - fashion'\n",
    "topic_names[29] = 'music industry'\n",
    "topic_names[81] = 'human ressources'\n",
    "topic_names[97] = 'science'\n",
    "topic_names[40] = 'health'\n",
    "topic_names[73] = 'mountains - nature'\n",
    "topic_names[16] = 'buildings'\n",
    "topic_names[25] = 'business - distribution'\n",
    "topic_names[67] = 'medieval'\n",
    "topic_names[86] = 'childish - games'\n",
    "topic_names[94] = 'classical music - composers'\n",
    "topic_names[24] = 'vehicle - machines'\n",
    "topic_names[38] = 'law - agreements'\n",
    "topic_names[57] = 'distribution'\n",
    "topic_names[69] = 'sport - competition'\n",
    "topic_names[20] = 'german'\n",
    "topic_names[48] = 'art'\n",
    "topic_names[44] = 'IT - telecommunication'\n",
    "topic_names[10] = 'books - writting - library'\n",
    "topic_names[14] = 'mathematics'\n",
    "topic_names[34] = 'doesn\\'t look english..'\n",
    "topic_names[27] = 'IT - startups - business'\n",
    "topic_names[18] = 'specifications'\n",
    "topic_names[11] = 'arab culture'\n",
    "\n",
    "pickle.dump( topic_names, open( \"topics_names.p\", \"wb\" ) )"
   ]
  },
  {
   "cell_type": "markdown",
   "metadata": {},
   "source": [
    "# simulate translators"
   ]
  },
  {
   "cell_type": "code",
   "execution_count": 29,
   "metadata": {
    "collapsed": false
   },
   "outputs": [],
   "source": [
    "#number of translators\n",
    "N_trans = 30\n",
    "translators = {i:i for i in range(0,N_trans) }\n",
    "len_tokens = { f: len(izi.raw_tokenize(f)) for f in filelist}    \n",
    "# build translated_by dict\n",
    "translated_by = dict()\n",
    "for f in filelist:\n",
    "    ts = []   \n",
    "    n = 2 + int(4 * float(len_tokens[f]) / float(max(len_tokens.values())))\n",
    "    for k in range(0,n):\n",
    "        ts.append( random.choice(translators.keys()))\n",
    "    \n",
    "    translated_by[f] = ts\n",
    "    \n",
    "pickle.dump( translated_by, open( \"translated_by.p\", \"wb\" ) )"
   ]
  },
  {
   "cell_type": "markdown",
   "metadata": {},
   "source": [
    "# compute semantics vectors"
   ]
  },
  {
   "cell_type": "code",
   "execution_count": 32,
   "metadata": {
    "collapsed": false
   },
   "outputs": [],
   "source": [
    "semantics_vectors = {f: izi.topicsFromTokens(izi.tokenize( izi.loadText(f))) for f in filelist}\n",
    "pickle.dump( semantics_vectors, open( \"semantics_vectors.p\", \"wb\" ) )\n"
   ]
  },
  {
   "cell_type": "markdown",
   "metadata": {},
   "source": [
    "# compute topics description"
   ]
  },
  {
   "cell_type": "code",
   "execution_count": 31,
   "metadata": {
    "collapsed": true
   },
   "outputs": [],
   "source": [
    "lda = gensim.models.ldamodel.LdaModel.load(u'lda/wikipedia_lda', mmap='r')\n",
    "\n",
    "# translate the lda topics in dictionnaries\n",
    "i = 0\n",
    "n = 100 # number of words per topics\n",
    "topics = dict()\n",
    "wordset = set()\n",
    "for i in range(0,100):\n",
    "    a = lda.print_topic(i, n)\n",
    "    topic = dict()\n",
    "#     print a\n",
    "    pairs = a.split( ' + ')\n",
    "    for p in pairs:\n",
    "        pair = p.split('*')\n",
    "#         print pair[0]\n",
    "        value = float(pair[0])\n",
    "        key = unicode(pair[1])\n",
    "        topic[key] = value\n",
    "        wordset.add(key)\n",
    "    topics[i] = topic   \n",
    "    i += 1\n",
    "    \n",
    "pickle.dump( topics, open( \"topics.p\", \"wb\" ) )"
   ]
  },
  {
   "cell_type": "code",
   "execution_count": null,
   "metadata": {
    "collapsed": true
   },
   "outputs": [],
   "source": []
  }
 ],
 "metadata": {
  "kernelspec": {
   "display_name": "Python 2",
   "language": "python",
   "name": "python2"
  },
  "language_info": {
   "codemirror_mode": {
    "name": "ipython",
    "version": 2
   },
   "file_extension": ".py",
   "mimetype": "text/x-python",
   "name": "python",
   "nbconvert_exporter": "python",
   "pygments_lexer": "ipython2",
   "version": "2.7.10"
  }
 },
 "nbformat": 4,
 "nbformat_minor": 0
}
