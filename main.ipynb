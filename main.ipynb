{
 "cells": [
  {
   "cell_type": "code",
   "execution_count": 29,
   "metadata": {
    "collapsed": false
   },
   "outputs": [],
   "source": [
    "import logging, gensim, bz2\n",
    "from gensim import corpora, models, similarities\n",
    "logging.basicConfig(format='%(asctime)s : %(levelname)s : %(message)s', level=logging.INFO)\n",
    "from bs4 import BeautifulSoup\n",
    "import nltk\n",
    "import re\n",
    "from nltk.corpus import stopwords\n",
    "import string\n",
    "import itertools\n",
    "exclude = set(string.punctuation)"
   ]
  },
  {
   "cell_type": "markdown",
   "metadata": {},
   "source": [
    "### open test texts"
   ]
  },
  {
   "cell_type": "code",
   "execution_count": 2,
   "metadata": {
    "collapsed": false
   },
   "outputs": [
    {
     "ename": "IOError",
     "evalue": "[Errno 2] No such file or directory: u'source_texts/Re-Nutriv Script_Final Translation Template_deadline 20. april-en-da-T.mxliff'",
     "output_type": "error",
     "traceback": [
      "\u001b[1;31m---------------------------------------------------------------------------\u001b[0m",
      "\u001b[1;31mIOError\u001b[0m                                   Traceback (most recent call last)",
      "\u001b[1;32m<ipython-input-2-bf22dd3a8b28>\u001b[0m in \u001b[0;36m<module>\u001b[1;34m()\u001b[0m\n\u001b[1;32m----> 1\u001b[1;33m \u001b[0msoup\u001b[0m \u001b[1;33m=\u001b[0m \u001b[0mBeautifulSoup\u001b[0m\u001b[1;33m(\u001b[0m\u001b[0mopen\u001b[0m\u001b[1;33m(\u001b[0m\u001b[1;34mu\"source_texts/Re-Nutriv Script_Final Translation Template_deadline 20. april-en-da-T.mxliff\"\u001b[0m\u001b[1;33m)\u001b[0m\u001b[1;33m,\u001b[0m \u001b[1;34m'lxml'\u001b[0m\u001b[1;33m)\u001b[0m\u001b[1;33m\u001b[0m\u001b[0m\n\u001b[0m\u001b[0;32m      2\u001b[0m \u001b[0msoup2\u001b[0m \u001b[1;33m=\u001b[0m \u001b[0mBeautifulSoup\u001b[0m\u001b[1;33m(\u001b[0m\u001b[0mopen\u001b[0m\u001b[1;33m(\u001b[0m\u001b[1;34mu\"source_texts/Turkish_Basketball_Clubs_Evaluationprogramme15-16_Repucom_150612_Übersetzten-en-tr-T.mxliff\"\u001b[0m\u001b[1;33m)\u001b[0m\u001b[1;33m,\u001b[0m \u001b[1;34m'lxml'\u001b[0m\u001b[1;33m)\u001b[0m\u001b[1;33m\u001b[0m\u001b[0m\n",
      "\u001b[1;31mIOError\u001b[0m: [Errno 2] No such file or directory: u'source_texts/Re-Nutriv Script_Final Translation Template_deadline 20. april-en-da-T.mxliff'"
     ]
    }
   ],
   "source": [
    "soup = BeautifulSoup(open(u\"source_texts/Re-Nutriv Script_Final Translation Template_deadline 20. april-en-da-T.mxliff\"), 'lxml')\n",
    "soup2 = BeautifulSoup(open(u\"source_texts/Turkish_Basketball_Clubs_Evaluationprogramme15-16_Repucom_150612_Übersetzten-en-tr-T.mxliff\"), 'lxml')"
   ]
  },
  {
   "cell_type": "code",
   "execution_count": 3,
   "metadata": {
    "collapsed": false,
    "scrolled": false
   },
   "outputs": [
    {
     "name": "stdout",
     "output_type": "stream",
     "text": [
      "The text language source is"
     ]
    },
    {
     "ename": "NameError",
     "evalue": "name 'soup' is not defined",
     "output_type": "error",
     "traceback": [
      "\u001b[1;31m---------------------------------------------------------------------------\u001b[0m",
      "\u001b[1;31mNameError\u001b[0m                                 Traceback (most recent call last)",
      "\u001b[1;32m<ipython-input-3-d8d4e2fc6417>\u001b[0m in \u001b[0;36m<module>\u001b[1;34m()\u001b[0m\n\u001b[1;32m----> 1\u001b[1;33m \u001b[1;32mprint\u001b[0m \u001b[1;34m\"The text language source is\"\u001b[0m\u001b[1;33m,\u001b[0m \u001b[0msoup\u001b[0m\u001b[1;33m.\u001b[0m\u001b[0mfile\u001b[0m\u001b[1;33m[\u001b[0m\u001b[1;34m\"source-language\"\u001b[0m\u001b[1;33m]\u001b[0m\u001b[1;33m\u001b[0m\u001b[0m\n\u001b[0m\u001b[0;32m      2\u001b[0m \u001b[1;32mprint\u001b[0m \u001b[1;34m\"The text language target is\"\u001b[0m\u001b[1;33m,\u001b[0m \u001b[0msoup\u001b[0m\u001b[1;33m.\u001b[0m\u001b[0mfile\u001b[0m\u001b[1;33m[\u001b[0m\u001b[1;34m\"target-language\"\u001b[0m\u001b[1;33m]\u001b[0m\u001b[1;33m\u001b[0m\u001b[0m\n",
      "\u001b[1;31mNameError\u001b[0m: name 'soup' is not defined"
     ]
    }
   ],
   "source": [
    "print \"The text language source is\", soup.file[\"source-language\"]\n",
    "print \"The text language target is\", soup.file[\"target-language\"]"
   ]
  },
  {
   "cell_type": "markdown",
   "metadata": {},
   "source": [
    "### what a file looks like"
   ]
  },
  {
   "cell_type": "code",
   "execution_count": 4,
   "metadata": {
    "collapsed": false
   },
   "outputs": [
    {
     "ename": "NameError",
     "evalue": "name 'soup' is not defined",
     "output_type": "error",
     "traceback": [
      "\u001b[1;31m---------------------------------------------------------------------------\u001b[0m",
      "\u001b[1;31mNameError\u001b[0m                                 Traceback (most recent call last)",
      "\u001b[1;32m<ipython-input-4-df26e0f5c8a7>\u001b[0m in \u001b[0;36m<module>\u001b[1;34m()\u001b[0m\n\u001b[1;32m----> 1\u001b[1;33m \u001b[1;32mprint\u001b[0m \u001b[0msoup\u001b[0m\u001b[1;33m.\u001b[0m\u001b[0mprettify\u001b[0m\u001b[1;33m(\u001b[0m\u001b[1;33m)\u001b[0m\u001b[1;33m\u001b[0m\u001b[0m\n\u001b[0m",
      "\u001b[1;31mNameError\u001b[0m: name 'soup' is not defined"
     ]
    }
   ],
   "source": [
    "print soup.prettify()"
   ]
  },
  {
   "cell_type": "markdown",
   "metadata": {},
   "source": [
    "### targeting the content"
   ]
  },
  {
   "cell_type": "code",
   "execution_count": 5,
   "metadata": {
    "collapsed": false
   },
   "outputs": [
    {
     "ename": "NameError",
     "evalue": "name 'soup' is not defined",
     "output_type": "error",
     "traceback": [
      "\u001b[1;31m---------------------------------------------------------------------------\u001b[0m",
      "\u001b[1;31mNameError\u001b[0m                                 Traceback (most recent call last)",
      "\u001b[1;32m<ipython-input-5-0b0400b5be7f>\u001b[0m in \u001b[0;36m<module>\u001b[1;34m()\u001b[0m\n\u001b[0;32m      1\u001b[0m \u001b[0mstrings\u001b[0m\u001b[1;33m=\u001b[0m\u001b[1;33m[\u001b[0m\u001b[1;33m]\u001b[0m\u001b[1;33m\u001b[0m\u001b[0m\n\u001b[1;32m----> 2\u001b[1;33m \u001b[1;32mfor\u001b[0m \u001b[0mstring\u001b[0m \u001b[1;32min\u001b[0m \u001b[0msoup\u001b[0m\u001b[1;33m.\u001b[0m\u001b[0mfind_all\u001b[0m\u001b[1;33m(\u001b[0m\u001b[1;34m\"source\"\u001b[0m\u001b[1;33m)\u001b[0m\u001b[1;33m:\u001b[0m\u001b[1;33m\u001b[0m\u001b[0m\n\u001b[0m\u001b[0;32m      3\u001b[0m     \u001b[0mstrings\u001b[0m\u001b[1;33m.\u001b[0m\u001b[0mappend\u001b[0m\u001b[1;33m(\u001b[0m\u001b[0mstring\u001b[0m\u001b[1;33m.\u001b[0m\u001b[0mstring\u001b[0m\u001b[1;33m)\u001b[0m\u001b[1;33m\u001b[0m\u001b[0m\n\u001b[0;32m      4\u001b[0m \u001b[1;33m\u001b[0m\u001b[0m\n\u001b[0;32m      5\u001b[0m \u001b[0mstrings2\u001b[0m\u001b[1;33m=\u001b[0m\u001b[1;33m[\u001b[0m\u001b[1;33m]\u001b[0m\u001b[1;33m\u001b[0m\u001b[0m\n",
      "\u001b[1;31mNameError\u001b[0m: name 'soup' is not defined"
     ]
    }
   ],
   "source": [
    "strings=[]\n",
    "for string in soup.find_all(\"source\"):\n",
    "    strings.append(string.string)\n",
    "    \n",
    "strings2=[]\n",
    "for string2 in soup2.find_all(\"source\"):\n",
    "    strings2.append(string2.string)"
   ]
  },
  {
   "cell_type": "markdown",
   "metadata": {},
   "source": [
    "### tokenizing"
   ]
  },
  {
   "cell_type": "code",
   "execution_count": 6,
   "metadata": {
    "collapsed": false
   },
   "outputs": [
    {
     "name": "stdout",
     "output_type": "stream",
     "text": [
      "\n"
     ]
    }
   ],
   "source": [
    "\n",
    "def tokenize(s):\n",
    "# tokenize a string\n",
    "    tokens=[]\n",
    "    wnl = nltk.WordNetLemmatizer()\n",
    "    tokens.append(nltk.word_tokenize(''.join(w for w in s)))\n",
    "    tokens = [w for w in tokens[0] if not re.search('\\.*[0-9]+\\.*', w)]\n",
    "    tokens = [w for w in tokens if w not in exclude]\n",
    "    tokens = [w for w in tokens if len(w) > 2]\n",
    "    tokens = [w.lower() for w in tokens]\n",
    "    tokens = [w for w in tokens if w not in stopwords.words('english')]\n",
    "    tokens = [wnl.lemmatize(t) for t in tokens]\n",
    "    return tokens\n",
    "\n",
    "def load_and_tokenize(path):\n",
    "    try:\n",
    "        soup = BeautifulSoup(open( path), 'lxml')\n",
    "        strings=[]\n",
    "        for string in soup.find_all(\"source\"):\n",
    "            strings.append(string.string)\n",
    "        return tokenize( strings )\n",
    "    except:\n",
    "        print\n",
    "        print \"## CANNOT LOAD:\" + path + \" ##\"\n",
    "        return None\n",
    "\n",
    "    \n"
   ]
  },
  {
   "cell_type": "code",
   "execution_count": 7,
   "metadata": {
    "collapsed": false
   },
   "outputs": [
    {
     "ename": "NameError",
     "evalue": "name 'strings2' is not defined",
     "output_type": "error",
     "traceback": [
      "\u001b[1;31m---------------------------------------------------------------------------\u001b[0m",
      "\u001b[1;31mNameError\u001b[0m                                 Traceback (most recent call last)",
      "\u001b[1;32m<ipython-input-7-cc60955b18a8>\u001b[0m in \u001b[0;36m<module>\u001b[1;34m()\u001b[0m\n\u001b[0;32m      1\u001b[0m \u001b[0mtokens\u001b[0m \u001b[1;33m=\u001b[0m \u001b[0mtokenize\u001b[0m\u001b[1;33m(\u001b[0m \u001b[0mstrings\u001b[0m \u001b[1;33m)\u001b[0m\u001b[1;33m\u001b[0m\u001b[0m\n\u001b[0;32m      2\u001b[0m \u001b[1;33m\u001b[0m\u001b[0m\n\u001b[1;32m----> 3\u001b[1;33m \u001b[0mtokens2\u001b[0m \u001b[1;33m=\u001b[0m \u001b[0mtokenize\u001b[0m\u001b[1;33m(\u001b[0m \u001b[0mstrings2\u001b[0m \u001b[1;33m)\u001b[0m\u001b[1;33m\u001b[0m\u001b[0m\n\u001b[0m\u001b[0;32m      4\u001b[0m \u001b[1;33m\u001b[0m\u001b[0m\n\u001b[0;32m      5\u001b[0m \u001b[0mtexts\u001b[0m \u001b[1;33m=\u001b[0m \u001b[1;33m[\u001b[0m\u001b[0mtokens\u001b[0m\u001b[1;33m]\u001b[0m \u001b[1;33m+\u001b[0m \u001b[1;33m[\u001b[0m\u001b[0mtokens2\u001b[0m\u001b[1;33m]\u001b[0m\u001b[1;33m\u001b[0m\u001b[0m\n",
      "\u001b[1;31mNameError\u001b[0m: name 'strings2' is not defined"
     ]
    }
   ],
   "source": [
    "tokens = tokenize( strings )\n",
    "\n",
    "tokens2 = tokenize( strings2 )\n",
    "\n",
    "texts = [tokens] + [tokens2]"
   ]
  },
  {
   "cell_type": "code",
   "execution_count": 8,
   "metadata": {
    "collapsed": false
   },
   "outputs": [
    {
     "ename": "NameError",
     "evalue": "name 'sys' is not defined",
     "output_type": "error",
     "traceback": [
      "\u001b[1;31m---------------------------------------------------------------------------\u001b[0m",
      "\u001b[1;31mNameError\u001b[0m                                 Traceback (most recent call last)",
      "\u001b[1;32m<ipython-input-8-74a1ddff7d67>\u001b[0m in \u001b[0;36m<module>\u001b[1;34m()\u001b[0m\n\u001b[0;32m      1\u001b[0m \u001b[0mpath\u001b[0m \u001b[1;33m=\u001b[0m \u001b[1;34m\"Underbilag 3 3 Leverandørens generelle løsningsbeskrivelse - BI-en-da-T.mxliff\"\u001b[0m\u001b[1;33m\u001b[0m\u001b[0m\n\u001b[1;32m----> 2\u001b[1;33m \u001b[0msoup\u001b[0m \u001b[1;33m=\u001b[0m \u001b[0mBeautifulSoup\u001b[0m\u001b[1;33m(\u001b[0m\u001b[0mopen\u001b[0m\u001b[1;33m(\u001b[0m \u001b[0mpath\u001b[0m\u001b[1;33m.\u001b[0m\u001b[0mencode\u001b[0m\u001b[1;33m(\u001b[0m\u001b[0msys\u001b[0m\u001b[1;33m.\u001b[0m\u001b[0mgetfilesystemencoding\u001b[0m\u001b[1;33m(\u001b[0m\u001b[1;33m)\u001b[0m\u001b[1;33m)\u001b[0m\u001b[1;33m)\u001b[0m\u001b[1;33m,\u001b[0m \u001b[1;34m'lxml'\u001b[0m\u001b[1;33m)\u001b[0m\u001b[1;33m\u001b[0m\u001b[0m\n\u001b[0m",
      "\u001b[1;31mNameError\u001b[0m: name 'sys' is not defined"
     ]
    }
   ],
   "source": [
    "path = \"Underbilag 3 3 Leverandørens generelle løsningsbeskrivelse - BI-en-da-T.mxliff\"\n",
    "soup = BeautifulSoup(open( path.encode(sys.getfilesystemencoding())), 'lxml')"
   ]
  },
  {
   "cell_type": "code",
   "execution_count": 9,
   "metadata": {
    "collapsed": false
   },
   "outputs": [
    {
     "name": "stdout",
     "output_type": "stream",
     "text": [
      "all_source_texts/13_pd_spec_fortigel_b-en-ru-T.mxliff\n",
      "all_source_texts/140702_swatch_SOM_A4_preview-en-fr-T.mxliff\n",
      "all_source_texts/1410-0002 DEEP SEA MONSTER Press Outs-en-fr_ca-CR.mxliff\n",
      "all_source_texts/1410-0002 FAST FLESH EATERS pressouts-en-fr_ca-CR.mxliff\n",
      "all_source_texts/1410-0002 fearsome fighters Press Outs-en-fr_ca-CR.mxliff\n",
      "all_source_texts/1410-0002 Giants of the Jurassic pressouts-en-fr_ca-CR.mxliff\n",
      "all_source_texts/1410-0002 Killers of Cretaceous pressouts-en-fr_ca-CR.mxliff\n",
      "all_source_texts/1410-0002 mega meateater pressouts -en-fr_ca-CR.mxliff\n",
      "all_source_texts/1814_Imbox Imagebrochure_REN 2_2015-8-20-en-de-T.mxliff\n",
      "all_source_texts/1844 0010 S&A MY BIG BOOK OF STICKER FUN COVER-en-fr_ca-CR.mxliff\n",
      "all_source_texts/1844 0010 S&A MY BIG BOOK OF STICKER FUN INTERIORS 1-8-en-fr_ca-CR.mxliff\n",
      "all_source_texts/1844 0010 S&A MY BIG BOOK OF STICKER FUN INTERIORS 25-40-en-fr_ca-CR.mxliff\n",
      "all_source_texts/1844 0010 S&A MY BIG BOOK OF STICKER FUN INTERIORS 41-48-en-fr_ca-CR.mxliff\n",
      "all_source_texts/1844 0010 S&A MY BIG BOOK OF STICKER FUN INTERIORS 49-60-en-fr_ca-CR.mxliff\n",
      "all_source_texts/1844 0010 S&A MY BIG BOOK OF STICKER FUN INTERIORS 61-72-en-fr_ca-CR.mxliff\n",
      "all_source_texts/1844 0010 S&A MY BIG BOOK OF STICKER FUN INTERIORS 73-84-en-fr_ca-CR.mxliff\n",
      "all_source_texts/1844 0010 S&A MY BIG BOOK OF STICKER FUN INTERIORS 85-96-en-fr_ca-CR.mxliff\n",
      "all_source_texts/1844 0010 S&A MY BIG BOOK OF STICKER FUN INTERIORS 9-24-en-fr_ca-CR.mxliff\n",
      "all_source_texts/1844 0010 S&A MY BIG BOOK OF STICKER FUN PRESSOUT_ STICKERS SECTION 5-en-fr_ca-CR.mxliff\n",
      "all_source_texts/1844 0010 S&A MY BIG BOOK OF STICKER FUN PRESSOUT_STICKERS SECTION 1-en-fr_ca-CR.mxliff\n",
      "all_source_texts/1844 0010 S&A MY BIG BOOK OF STICKER FUN PRESSOUT_STICKERS SECTION 3-en-fr_ca-CR.mxliff\n",
      "all_source_texts/1844 0010 S&A MY BIG BOOK OF STICKER FUN PRESSOUT_STICKERS SECTION 4-en-fr_ca-CR.mxliff\n",
      "all_source_texts/1844 0010 S&A MY BIG BOOK OF STICKER FUN PRESSOUT_STICKERS SECTION 6-en-fr_ca-CR.mxliff\n",
      "all_source_texts/1844 0010 S&A MY BIG BOOK OF STICKER FUN PRESSOU_ STICKERS SECTION 2-en-fr_ca-CR.mxliff\n",
      "all_source_texts/1844-0001 Mega Giant S&A Dinosaurs UK AMENDED-en-fr_ca-CR.mxliff\n",
      "all_source_texts/1844-0001 MEGA S&A Dinosaurs PLC V4-en-fr_ca-CR.mxliff\n",
      "all_source_texts/1920-0001 Fairy Interiors-en-fr_ca-CR.mxliff\n",
      "all_source_texts/1920-0001 Fairy PLC-en-fr_ca-CR.mxliff\n",
      "all_source_texts/1920-0002 Princess Interiors-en-fr_ca-CR.mxliff\n",
      "all_source_texts/1920-0002 Princess PLC-en-fr_ca-CR.mxliff\n",
      "all_source_texts/198_GB_ProduktBrochure_VacuumCoater-en-ru-T.mxliff\n",
      "all_source_texts/2.1 fcc_1200m_kazakhstan-tengizchevroil_dl_intl_2-2_G_EN-en-de-T.mxliff\n",
      "all_source_texts/2.2.1 fcc_1200m_kazakhstan-tengizchevroil_dl_intl_2-2_G_EN-en-de-T.mxliff\n",
      "all_source_texts/2.2.2 fcc_1200m_kazakhstan-tengizchevroil_dl_intl_2-2_G_EN-en-de-T.mxliff\n",
      "all_source_texts/2014-12-22 translations_enGB dacadoo platform-en-ko-T.mxliff\n",
      "all_source_texts/215_GB_produktbrochure_Hammermill-en-ru-T.mxliff\n",
      "all_source_texts/217_GB_produktbrochure_Pellet mill-en-ru-T.mxliff\n",
      "all_source_texts/245 GB_ImageBrochure_BioWaste_2014 (1)-en-ru-T.mxliff\n",
      "all_source_texts/257_GB_produktbrochure_PaddleMixer-en-ru-T.mxliff\n",
      "all_source_texts/258_GB_produktbrochure_extruder_pet_aqua-en-ru-T.mxliff\n",
      "all_source_texts/261_GB_produktbrochure_Paladin pellet mills_high-en-ru-T.mxliff\n",
      "all_source_texts/262_GB_produktbrochure_Dies and rools_press (1)-en-ru-T.mxliff\n",
      "all_source_texts/271_GB_ProduktBrochure_MicroFluidSystem-en-ru-T.mxliff\n",
      "all_source_texts/287_GB_produktbrochure_FeedExpander-en-ru-T.mxliff\n",
      "all_source_texts/290 GB ImageBrochure_Animal_2014-en-ru-T.mxliff\n",
      "all_source_texts/291 GB_ImageBrochure_Petfood_2014-en-ru-T.mxliff\n",
      "all_source_texts/292 GB_ImageBrochure_Aqua_2014-en-ru-T.mxliff\n",
      "all_source_texts/293_GB_Combi-zone dryer-en-ru-T.mxliff\n",
      "all_source_texts/3 Minute Beauty Intro Copy_Translation Template_deadline 20. april-en-da-T.mxliff\n",
      "all_source_texts/320_GB_Plant_and_process_controls_ny-en-de-T.mxliff\n",
      "all_source_texts/5 tips fra planteeksperten_en-GB-en-it-T.mxliff\n",
      "all_source_texts/591_GB_produktbrochure_Filter-en-ru-T.mxliff\n",
      "all_source_texts/900 GB_Company Profile_2015-en-ru-T.mxliff\n",
      "all_source_texts/Allg. Hinweise_EN-en-fa-T.mxliff\n",
      "all_source_texts/ANR script_Final_Translation Template-deadline 20. april-en-da-T.mxliff\n",
      "all_source_texts/aps_SRM_Ariba_Adapter_Webinar_20150827_EN_Übersetzer-en-de-T.mxliff\n",
      "all_source_texts/babyshop texter vecka 33-2-en-da-T.mxliff\n",
      "all_source_texts/babyshop texter vecka 33-2-en-fi-T.mxliff\n",
      "all_source_texts/babyshop texter vecka 33-3 (162-327)-en-da-T.mxliff\n",
      "all_source_texts/babyshop texter vecka 33-3 (162-327)-en-fi-T.mxliff\n",
      "all_source_texts/babyshop texter vecka 33-4 (328-353)-en-da-T.mxliff\n",
      "all_source_texts/babyshop texter vecka 33-4 (328-353)-en-fi-T.mxliff\n",
      "all_source_texts/babyshop texter vecka 33-5 (156-162)-en-da-T.mxliff\n",
      "all_source_texts/babyshop texter vecka 33-5 (156-162)-en-fi-T.mxliff\n",
      "all_source_texts/babyshop texter vecka 33-en-da-T.mxliff\n",
      "all_source_texts/babyshop texter vecka 33-en-fi-T.mxliff\n",
      "all_source_texts/Best of the Best Weekly Tips v4-en-da-T.mxliff\n",
      "all_source_texts/Beth¹s Blog 1 v3-en-da-T.mxliff\n",
      "all_source_texts/Beth¹s Blog 2 v1-en-da-T.mxliff\n",
      "all_source_texts/Beth¹s Blog 3 v3-en-da-T.mxliff\n",
      "all_source_texts/BroschA4en_2015_SPEKON_web-en-ar-T.mxliff\n",
      "all_source_texts/BSO Teil B_Zwerchallee_EN-en-fa-T.mxliff\n",
      "all_source_texts/BSO_B_EBS_EN-en-fa-T.mxliff\n",
      "all_source_texts/bso_b_Ludwigsburger_EN-en-fa-T.mxliff\n",
      "all_source_texts/BSO_B_Wormser_EN-en-fa-T.mxliff\n",
      "all_source_texts/BSO_B_WQS_EN-en-fa-T.mxliff\n",
      "all_source_texts/Centax Telecom agreement 1 300915-en-de-T.mxliff\n",
      "all_source_texts/ContentMatrix_Final Translation Template_deadline 13. march-en-da-T.mxliff\n",
      "all_source_texts/ContentMatrix_Final Translation Template_SWEDISH-en-da-T.mxliff\n",
      "all_source_texts/content_no-en-no-T.mxliff\n",
      "all_source_texts/CSC - UTMB Ispo Press Conference Press Release 090215 (1)-en-de-T.mxliff\n",
      "all_source_texts/Customer needs analysis with ratings_Final[1]-en-fr-T.mxliff\n",
      "all_source_texts/da-en-da-T.mxliff\n",
      "all_source_texts/De 12 varianter - blyanten_en-GB-en-it-T.mxliff\n",
      "all_source_texts/DOC010915-01092015124758-en-de-T.mxliff\n",
      "all_source_texts/EL GMTC_Final Translation Template (2)_deadline 20. april-en-da-T.mxliff\n",
      "all_source_texts/ELX Weekly Wellness Tips v3-en-da-T.mxliff\n",
      "all_source_texts/ENG - Basic Modules_Eating Habits_V59-MH-en-ko-T.mxliff\n",
      "all_source_texts/ENG - Basic Modules_Food Intake-Beverages_QNA_V59-MH-en-ko-T.mxliff\n",
      "all_source_texts/ENG - Basic Modules_Food Intake_QNA_V59-MH-en-ko-T.mxliff\n",
      "all_source_texts/ENG - Triage-Questions_V59-MH-en-ko-T.mxliff\n",
      "all_source_texts/ENG - Ziele_V59-MH-en-ko-T.mxliff\n",
      "all_source_texts/ENG -Other_Nutrition_TranslationsV59-MH-en-ko-T.mxliff\n",
      "all_source_texts/ERS 51 - User Manual - 1.1-en-de-T.mxliff\n",
      "all_source_texts/eula-en-de-T.mxliff\n",
      "all_source_texts/External microsite_Final[1][2]-en-fr-T.mxliff\n",
      "all_source_texts/Hausordnung_EN-en-fa-T.mxliff\n",
      "all_source_texts/Hvad er mikrogrønt_en-GB-en-it-T.mxliff\n",
      "all_source_texts/HYP IPI _en-en-de-T.mxliff\n",
      "all_source_texts/ilv_presentation_v13.7_141111_ey_ds-2-en-zh-T.mxliff\n",
      "all_source_texts/Inspiration - tiny gardens_DA_en-GB-en-it-T.mxliff\n",
      "all_source_texts/joined-P2069-J1-2-3-4-en-it-T.mxliff\n",
      "all_source_texts/license_agreement_nexus-en-fr-T.mxliff\n",
      "all_source_texts/Om Sprout_en-GB-en-it-T.mxliff\n",
      "all_source_texts/Personlig sætning_en-GB-en-it-T.mxliff\n",
      "all_source_texts/Plant dit papir_en-GB-en-it-T.mxliff\n",
      "all_source_texts/Presse_en-GB-en-it-T.mxliff\n",
      "all_source_texts/Product IQ Quizzes v2-en-da-T.mxliff\n",
      "all_source_texts/Q & A_en-GB-en-it-T.mxliff\n",
      "all_source_texts/quality_dossier_fortigel_b_rev_6_2014 (1)-en-ru-T.mxliff\n",
      "all_source_texts/Re-Nutriv Script_Final Translation Template_deadline 20. april-en-da-T.mxliff\n",
      "all_source_texts/Resort Activities-en-fr-T.mxliff\n",
      "all_source_texts/russian_name.mxliff\n",
      "all_source_texts/Salesfolder Revlonissimo-en-de-T.mxliff\n",
      "all_source_texts/service agreement_draft_for_translation-en-de-T.mxliff\n",
      "all_source_texts/Sprout blyanten_en-GB-en-it-T.mxliff\n",
      "all_source_texts/Sprouts værdier_en-GB-en-it-T.mxliff\n",
      "all_source_texts/Sprout_PR_faktaark_en-GB-en-it-T.mxliff\n",
      "all_source_texts/Sprout_PR_funfacts_en-GB-en-it-T.mxliff\n",
      "all_source_texts/Sprout_PR_interview_en-GB-en-it-T.mxliff\n",
      "all_source_texts/Sprout_PR_tinygardens_en-GB-en-it-T.mxliff\n",
      "all_source_texts/SÅDAN GØR DU _en-GB-en-it-T.mxliff\n",
      "all_source_texts/Team Sprout_en-GB-en-it-T.mxliff\n",
      "all_source_texts/teksmobile.se_sv-SE_pwd43739_1418743604661-en-sv-T.mxliff\n",
      "all_source_texts/Text variables for e-mail report_Final[1]-en-fr-T.mxliff\n",
      "all_source_texts/Text variables for on-screen feedback_Final[1]-en-fr-T.mxliff\n",
      "all_source_texts/Text1_1070Woerter-en-de-T.mxliff\n",
      "all_source_texts/tiny gardens by Sprout_en-GB-en-it-T.mxliff\n",
      "all_source_texts/TS-2S iv-EU 3 FEB 2015 WORD-en-nl-T.mxliff\n",
      "all_source_texts/Turkish_Basketball_Clubs_Evaluationprogramme15-16_Repucom_150612_Übersetzten-en-tr-T.mxliff\n",
      "all_source_texts/TV-#124290-v1-Vehicle_Rental_Agreement__-_template clean_redl. UvH-en-de-T.mxliff\n",
      "all_source_texts/Underbilag 3 3 Leverandørens generelle løsningsbeskrivelse - BI-en-da-T.mxliff\n",
      "all_source_texts/Underbilag 3 3 Leverandørens generelle løsningsbeskrivelse - BU-en-da-T.mxliff\n",
      "all_source_texts/Underbilag 3 3 Leverandørens generelle løsningsbeskrivelse - IN-en-da-T.mxliff\n",
      "all_source_texts/Underbilag 3 3 Leverandørens generelle løsningsbeskrivelse - OP-en-da-T.mxliff\n",
      "all_source_texts/Underbilag 3 3 Leverandørens generelle løsningsbeskrivelse - PS-en-da-T.mxliff\n",
      "all_source_texts/Underbilag 3 3 Leverandørens generelle løsningsbeskrivelse - RE-en-da-T.mxliff\n",
      "all_source_texts/Underbilag 3 3 Leverandørens generelle løsningsbeskrivelse - TK-en-da-T.mxliff\n",
      "all_source_texts/Vecka 32-1 (29-80)-en-nb_no-T.mxliff\n",
      "all_source_texts/Vecka 32-2 (81-135)-en-nb_no-T.mxliff\n",
      "all_source_texts/Vecka 32-3 (136-182)-en-nb_no-T.mxliff\n",
      "all_source_texts/Vecka 32-4 (218-329)-en-nb_no-T.mxliff\n",
      "all_source_texts/Vecka 32-5 (362-423)-en-nb_no-T.mxliff\n",
      "all_source_texts/Vecka 32-6 (426-479)-en-nb_no-T.mxliff\n",
      "all_source_texts/Vecka 32-7 (481-497)-en-nb_no-T.mxliff\n",
      "all_source_texts/Vecka 39 - 1 (5-50)-en-nb_no-T.mxliff\n",
      "all_source_texts/Vecka 39 - 2 (51-128)-en-nb_no-T.mxliff\n",
      "all_source_texts/Vecka 39 - 3 (130-190)-en-nb_no-T.mxliff\n",
      "all_source_texts/Vecka 39 - 4 (192-243)-en-nb_no-T.mxliff\n",
      "all_source_texts/Vecka 39 - 5 (246-304)-en-nb_no-T.mxliff\n",
      "all_source_texts/Vecka 39 - 6 (308-357)-en-nb_no-T.mxliff\n",
      "all_source_texts/Vecka 39 - 7 (361-410)-en-nb_no-T.mxliff\n",
      "all_source_texts/Vecka 39 - 8 (414-442)-en-nb_no-T.mxliff\n",
      "all_source_texts/Vejledning pelvifine-en-da-T.mxliff\n",
      "all_source_texts/Vejledning til tiny gardens_en-GB-en-it-T.mxliff\n",
      "all_source_texts/Vision & Mission2_en-GB-en-it-T.mxliff\n",
      "all_source_texts/Vores ansvar_en-GB-en-it-T.mxliff\n",
      "all_source_texts/Welcome Video Script_Final Translation Template_deadline 13. march-en-da-T.mxliff\n",
      "all_source_texts/_WL-Contact_Technical_And_Functional_Proposal-1-en-de-T.mxliff\n"
     ]
    }
   ],
   "source": [
    "import os\n",
    "import sys\n",
    "root = u\"all_source_texts/\"\n",
    "for filename in os.listdir(root):\n",
    "    filename = root + filename\n",
    "    print filename\n",
    "    open( filename.encode(sys.getfilesystemencoding()), \"r\")"
   ]
  },
  {
   "cell_type": "markdown",
   "metadata": {
    "collapsed": true
   },
   "source": [
    "---------"
   ]
  },
  {
   "cell_type": "markdown",
   "metadata": {},
   "source": [
    "### load lda environement (locally)"
   ]
  },
  {
   "cell_type": "code",
   "execution_count": 10,
   "metadata": {
    "collapsed": false
   },
   "outputs": [],
   "source": [
    "lda = gensim.models.ldamodel.LdaModel.load('lda/wikipedia_lda', mmap='r')"
   ]
  },
  {
   "cell_type": "code",
   "execution_count": 11,
   "metadata": {
    "collapsed": false,
    "scrolled": true
   },
   "outputs": [
    {
     "name": "stdout",
     "output_type": "stream",
     "text": [
      "0.014*historic + 0.010*building + 0.009*register + 0.007*places + 0.006*listed + 0.005*buildings + 0.005*street + 0.005*roof + 0.004*story + 0.004*brick\n",
      "==================================================\n",
      "0.033*football + 0.020*ap + 0.019*ncaa + 0.019*nfl + 0.014*yards + 0.011*freshman + 0.010*sophomore + 0.009*draft + 0.009*defensive + 0.009*bowl\n",
      "==================================================\n",
      "0.020*tbd + 0.008*mississauga + 0.008*ethiopian + 0.007*krishnan + 0.006*ethiopia + 0.006*nollywood + 0.006*kandy + 0.005*addis + 0.005*cif + 0.005*byu\n",
      "==================================================\n",
      "0.027*german + 0.019*der + 0.017*von + 0.015*und + 0.014*berlin + 0.012*germany + 0.009*die + 0.008*hans + 0.007*austrian + 0.007*vienna\n",
      "==================================================\n",
      "0.050*dns + 0.012*dnq + 0.011*durango + 0.011*redoubt + 0.010*whorls + 0.008*saitama + 0.008*lanceolate + 0.008*gijón + 0.007*sinaloa + 0.007*gunma\n",
      "==================================================\n",
      "0.024*adelaide + 0.023*alaska + 0.016*barn + 0.013*cdp + 0.012*uav + 0.012*smokehouse + 0.009*fpv + 0.009*kristiansand + 0.008*arctiidae + 0.008*torrens\n",
      "==================================================\n",
      "0.128*align + 0.044*nepal + 0.024*text + 0.014*till + 0.014*color + 0.013*kathmandu + 0.013*style + 0.012*btecs + 0.012*lviv + 0.011*nepali\n",
      "==================================================\n",
      "0.044*stigmata + 0.035*repechage + 0.024*svg + 0.015*tracklisting + 0.012*și + 0.011*preliminaries + 0.009*flag + 0.008*ogol + 0.008*beatified + 0.007*whitish\n",
      "==================================================\n",
      "0.016*listings + 0.014*township + 0.013*community + 0.012*unincorporated + 0.011*arkansas + 0.009*census + 0.007*elementary + 0.006*ultralight + 0.005*california + 0.005*fútbol\n",
      "==================================================\n",
      "0.052*meyrick + 0.038*hurling + 0.034*pts + 0.024*pld + 0.019*backstroke + 0.015*yoon + 0.015*telenovela + 0.011*iihf + 0.010*choi + 0.010*yoo\n",
      "==================================================\n"
     ]
    }
   ],
   "source": [
    "for a in lda.print_topics(10):\n",
    "    print a\n",
    "    print \"=\"*50"
   ]
  },
  {
   "cell_type": "markdown",
   "metadata": {},
   "source": [
    "### indexing the tokens of the corpus"
   ]
  },
  {
   "cell_type": "code",
   "execution_count": 12,
   "metadata": {
    "collapsed": false
   },
   "outputs": [
    {
     "ename": "NameError",
     "evalue": "name 'texts' is not defined",
     "output_type": "error",
     "traceback": [
      "\u001b[1;31m---------------------------------------------------------------------------\u001b[0m",
      "\u001b[1;31mNameError\u001b[0m                                 Traceback (most recent call last)",
      "\u001b[1;32m<ipython-input-12-5ad29296fdb0>\u001b[0m in \u001b[0;36m<module>\u001b[1;34m()\u001b[0m\n\u001b[1;32m----> 1\u001b[1;33m \u001b[0mdictionary\u001b[0m \u001b[1;33m=\u001b[0m \u001b[0mcorpora\u001b[0m\u001b[1;33m.\u001b[0m\u001b[0mDictionary\u001b[0m\u001b[1;33m(\u001b[0m\u001b[0mtexts\u001b[0m\u001b[1;33m)\u001b[0m\u001b[1;33m\u001b[0m\u001b[0m\n\u001b[0m\u001b[0;32m      2\u001b[0m \u001b[0mcorpus\u001b[0m \u001b[1;33m=\u001b[0m \u001b[1;33m[\u001b[0m\u001b[0mdictionary\u001b[0m\u001b[1;33m.\u001b[0m\u001b[0mdoc2bow\u001b[0m\u001b[1;33m(\u001b[0m\u001b[0mtext\u001b[0m\u001b[1;33m)\u001b[0m \u001b[1;32mfor\u001b[0m \u001b[0mtext\u001b[0m \u001b[1;32min\u001b[0m \u001b[0mtexts\u001b[0m\u001b[1;33m]\u001b[0m\u001b[1;33m\u001b[0m\u001b[0m\n",
      "\u001b[1;31mNameError\u001b[0m: name 'texts' is not defined"
     ]
    }
   ],
   "source": [
    "dictionary = corpora.Dictionary(texts)\n",
    "corpus = [dictionary.doc2bow(text) for text in texts]"
   ]
  },
  {
   "cell_type": "markdown",
   "metadata": {},
   "source": [
    "### running lda on corpus"
   ]
  },
  {
   "cell_type": "code",
   "execution_count": 13,
   "metadata": {
    "collapsed": false
   },
   "outputs": [
    {
     "ename": "NameError",
     "evalue": "name 'corpus' is not defined",
     "output_type": "error",
     "traceback": [
      "\u001b[1;31m---------------------------------------------------------------------------\u001b[0m",
      "\u001b[1;31mNameError\u001b[0m                                 Traceback (most recent call last)",
      "\u001b[1;32m<ipython-input-13-a5c9dda0e618>\u001b[0m in \u001b[0;36m<module>\u001b[1;34m()\u001b[0m\n\u001b[1;32m----> 1\u001b[1;33m \u001b[0mcorpus_lda\u001b[0m \u001b[1;33m=\u001b[0m \u001b[0mlda\u001b[0m\u001b[1;33m[\u001b[0m\u001b[0mcorpus\u001b[0m\u001b[1;33m]\u001b[0m\u001b[1;33m\u001b[0m\u001b[0m\n\u001b[0m",
      "\u001b[1;31mNameError\u001b[0m: name 'corpus' is not defined"
     ]
    }
   ],
   "source": [
    "corpus_lda = lda[corpus]"
   ]
  },
  {
   "cell_type": "markdown",
   "metadata": {},
   "source": [
    "### displaying the major topics"
   ]
  },
  {
   "cell_type": "code",
   "execution_count": 14,
   "metadata": {
    "collapsed": false
   },
   "outputs": [
    {
     "ename": "NameError",
     "evalue": "name 'corpus_lda' is not defined",
     "output_type": "error",
     "traceback": [
      "\u001b[1;31m---------------------------------------------------------------------------\u001b[0m",
      "\u001b[1;31mNameError\u001b[0m                                 Traceback (most recent call last)",
      "\u001b[1;32m<ipython-input-14-993e714b5e1a>\u001b[0m in \u001b[0;36m<module>\u001b[1;34m()\u001b[0m\n\u001b[0;32m      1\u001b[0m \u001b[0ma\u001b[0m\u001b[1;33m=\u001b[0m\u001b[1;33m[\u001b[0m\u001b[1;33m]\u001b[0m\u001b[1;33m\u001b[0m\u001b[0m\n\u001b[1;32m----> 2\u001b[1;33m \u001b[1;32mfor\u001b[0m \u001b[0mdoc\u001b[0m \u001b[1;32min\u001b[0m \u001b[0mcorpus_lda\u001b[0m\u001b[1;33m:\u001b[0m\u001b[1;33m\u001b[0m\u001b[0m\n\u001b[0m\u001b[0;32m      3\u001b[0m     \u001b[0ma\u001b[0m\u001b[1;33m.\u001b[0m\u001b[0mappend\u001b[0m\u001b[1;33m(\u001b[0m\u001b[0msorted\u001b[0m\u001b[1;33m(\u001b[0m\u001b[0mdoc\u001b[0m\u001b[1;33m,\u001b[0m \u001b[0mkey\u001b[0m\u001b[1;33m=\u001b[0m\u001b[1;32mlambda\u001b[0m \u001b[0mitem\u001b[0m\u001b[1;33m:\u001b[0m \u001b[1;33m(\u001b[0m\u001b[1;33m-\u001b[0m\u001b[1;36m1\u001b[0m\u001b[1;33m)\u001b[0m\u001b[1;33m*\u001b[0m\u001b[0mitem\u001b[0m\u001b[1;33m[\u001b[0m\u001b[1;36m1\u001b[0m\u001b[1;33m]\u001b[0m\u001b[1;33m)\u001b[0m\u001b[1;33m)\u001b[0m\u001b[1;33m\u001b[0m\u001b[0m\n",
      "\u001b[1;31mNameError\u001b[0m: name 'corpus_lda' is not defined"
     ]
    }
   ],
   "source": [
    "a=[]\n",
    "for doc in corpus_lda:\n",
    "    a.append(sorted(doc, key=lambda item: (-1)*item[1]))"
   ]
  },
  {
   "cell_type": "code",
   "execution_count": 15,
   "metadata": {
    "collapsed": false
   },
   "outputs": [],
   "source": [
    "i = 0\n",
    "for corpus in a:\n",
    "    print \"text %s\" %i\n",
    "    for s in corpus[:3]:\n",
    "        print str(s) \n",
    "        print \"\\t\" + unicode(lda.print_topic(int(s[0])))\n",
    "    i += 1\n",
    "    print"
   ]
  },
  {
   "cell_type": "code",
   "execution_count": 16,
   "metadata": {
    "collapsed": false
   },
   "outputs": [
    {
     "name": "stdout",
     "output_type": "stream",
     "text": [
      "0.004*television + 0.004*films + 0.004*festival + 0.004*tv + 0.004*actor + 0.004*awards + 0.004*directed + 0.004*show + 0.004*award + 0.003*episode\n",
      "0.014*gk + 0.012*vfl + 0.008*tba + 0.007*hee + 0.007*melbourne + 0.006*eun + 0.006*prem + 0.006*geelong + 0.005*victorian + 0.005*kyung\n",
      "\n",
      "0.026*station + 0.024*railway + 0.009*airport + 0.008*train + 0.008*route + 0.007*road + 0.006*rail + 0.006*highway + 0.006*bus + 0.006*junction\n",
      "0.009*fuscous + 0.005*ochreous + 0.005*hindwings + 0.003*plot + 0.003*story + 0.002*novel + 0.002*man + 0.002*suffused + 0.002*love + 0.002*you\n"
     ]
    }
   ],
   "source": [
    "print lda.print_topic(77)\n",
    "print lda.print_topic(60)\n",
    "print \n",
    "print lda.print_topic(57)\n",
    "print lda.print_topic(78)"
   ]
  },
  {
   "cell_type": "code",
   "execution_count": 17,
   "metadata": {
    "collapsed": false
   },
   "outputs": [
    {
     "ename": "NameError",
     "evalue": "name 'tokens2' is not defined",
     "output_type": "error",
     "traceback": [
      "\u001b[1;31m---------------------------------------------------------------------------\u001b[0m",
      "\u001b[1;31mNameError\u001b[0m                                 Traceback (most recent call last)",
      "\u001b[1;32m<ipython-input-17-4f0d8358d123>\u001b[0m in \u001b[0;36m<module>\u001b[1;34m()\u001b[0m\n\u001b[0;32m      4\u001b[0m \u001b[1;33m\u001b[0m\u001b[0m\n\u001b[0;32m      5\u001b[0m \u001b[0md2\u001b[0m\u001b[1;33m=\u001b[0m\u001b[1;33m{\u001b[0m\u001b[1;33m}\u001b[0m\u001b[1;33m\u001b[0m\u001b[0m\n\u001b[1;32m----> 6\u001b[1;33m \u001b[1;32mfor\u001b[0m \u001b[0mw\u001b[0m \u001b[1;32min\u001b[0m \u001b[0mtokens2\u001b[0m\u001b[1;33m:\u001b[0m\u001b[1;33m\u001b[0m\u001b[0m\n\u001b[0m\u001b[0;32m      7\u001b[0m     \u001b[0md2\u001b[0m\u001b[1;33m[\u001b[0m\u001b[0mw\u001b[0m\u001b[1;33m]\u001b[0m\u001b[1;33m=\u001b[0m\u001b[0mtokens2\u001b[0m\u001b[1;33m.\u001b[0m\u001b[0mcount\u001b[0m\u001b[1;33m(\u001b[0m\u001b[0mw\u001b[0m\u001b[1;33m)\u001b[0m\u001b[1;33m\u001b[0m\u001b[0m\n",
      "\u001b[1;31mNameError\u001b[0m: name 'tokens2' is not defined"
     ]
    }
   ],
   "source": [
    "d={}\n",
    "for w in tokens:\n",
    "    d[w]=tokens.count(w)\n",
    "    \n",
    "d2={}\n",
    "for w in tokens2:\n",
    "    d2[w]=tokens2.count(w)"
   ]
  },
  {
   "cell_type": "code",
   "execution_count": 18,
   "metadata": {
    "collapsed": false
   },
   "outputs": [],
   "source": [
    "remove=[]\n",
    "for u,v in d.iteritems():\n",
    "    if v==1:\n",
    "        remove.append(u)\n",
    "        \n",
    "remove2=[]\n",
    "for u,v in d2.iteritems():\n",
    "    if v==1:\n",
    "        remove2.append(u)"
   ]
  },
  {
   "cell_type": "code",
   "execution_count": 19,
   "metadata": {
    "collapsed": false
   },
   "outputs": [
    {
     "ename": "NameError",
     "evalue": "name 'tokens2' is not defined",
     "output_type": "error",
     "traceback": [
      "\u001b[1;31m---------------------------------------------------------------------------\u001b[0m",
      "\u001b[1;31mNameError\u001b[0m                                 Traceback (most recent call last)",
      "\u001b[1;32m<ipython-input-19-5a581f7af72d>\u001b[0m in \u001b[0;36m<module>\u001b[1;34m()\u001b[0m\n\u001b[0;32m      1\u001b[0m \u001b[0mliste\u001b[0m \u001b[1;33m=\u001b[0m \u001b[1;33m[\u001b[0m\u001b[0mw\u001b[0m \u001b[1;32mfor\u001b[0m \u001b[0mw\u001b[0m \u001b[1;32min\u001b[0m \u001b[0mtokens\u001b[0m \u001b[1;32mif\u001b[0m \u001b[0mw\u001b[0m \u001b[1;32mnot\u001b[0m \u001b[1;32min\u001b[0m \u001b[0mremove\u001b[0m\u001b[1;33m]\u001b[0m\u001b[1;33m\u001b[0m\u001b[0m\n\u001b[1;32m----> 2\u001b[1;33m \u001b[0mliste2\u001b[0m \u001b[1;33m=\u001b[0m \u001b[1;33m[\u001b[0m\u001b[0mw\u001b[0m \u001b[1;32mfor\u001b[0m \u001b[0mw\u001b[0m \u001b[1;32min\u001b[0m \u001b[0mtokens2\u001b[0m \u001b[1;32mif\u001b[0m \u001b[0mw\u001b[0m \u001b[1;32mnot\u001b[0m \u001b[1;32min\u001b[0m \u001b[0mremove2\u001b[0m\u001b[1;33m]\u001b[0m\u001b[1;33m\u001b[0m\u001b[0m\n\u001b[0m",
      "\u001b[1;31mNameError\u001b[0m: name 'tokens2' is not defined"
     ]
    }
   ],
   "source": [
    "liste = [w for w in tokens if w not in remove]\n",
    "liste2 = [w for w in tokens2 if w not in remove2]"
   ]
  },
  {
   "cell_type": "markdown",
   "metadata": {},
   "source": [
    "### collocations"
   ]
  },
  {
   "cell_type": "code",
   "execution_count": 20,
   "metadata": {
    "collapsed": false
   },
   "outputs": [
    {
     "ename": "NameError",
     "evalue": "name 'liste2' is not defined",
     "output_type": "error",
     "traceback": [
      "\u001b[1;31m---------------------------------------------------------------------------\u001b[0m",
      "\u001b[1;31mNameError\u001b[0m                                 Traceback (most recent call last)",
      "\u001b[1;32m<ipython-input-20-7f969b426ef1>\u001b[0m in \u001b[0;36m<module>\u001b[1;34m()\u001b[0m\n\u001b[0;32m      1\u001b[0m \u001b[0mmots\u001b[0m \u001b[1;33m=\u001b[0m \u001b[1;34m' '\u001b[0m\u001b[1;33m.\u001b[0m\u001b[0mjoin\u001b[0m\u001b[1;33m(\u001b[0m\u001b[0mliste\u001b[0m\u001b[1;33m)\u001b[0m\u001b[1;33m\u001b[0m\u001b[0m\n\u001b[1;32m----> 2\u001b[1;33m \u001b[0mmots2\u001b[0m \u001b[1;33m=\u001b[0m \u001b[1;34m' '\u001b[0m\u001b[1;33m.\u001b[0m\u001b[0mjoin\u001b[0m\u001b[1;33m(\u001b[0m\u001b[0mliste2\u001b[0m\u001b[1;33m)\u001b[0m\u001b[1;33m\u001b[0m\u001b[0m\n\u001b[0m",
      "\u001b[1;31mNameError\u001b[0m: name 'liste2' is not defined"
     ]
    }
   ],
   "source": [
    "mots = ' '.join(liste)\n",
    "mots2 = ' '.join(liste2)"
   ]
  },
  {
   "cell_type": "code",
   "execution_count": 21,
   "metadata": {
    "collapsed": false
   },
   "outputs": [
    {
     "data": {
      "text/plain": [
       "[]"
      ]
     },
     "execution_count": 21,
     "metadata": {},
     "output_type": "execute_result"
    }
   ],
   "source": [
    "from nltk.collocations import *\n",
    "bigram_measures = nltk.collocations.BigramAssocMeasures()\n",
    "tokens = nltk.wordpunct_tokenize(mots)\n",
    "finder = BigramCollocationFinder.from_words(tokens)\n",
    "finder.apply_freq_filter(4)\n",
    "finder.nbest(bigram_measures.pmi, 20)"
   ]
  },
  {
   "cell_type": "code",
   "execution_count": 22,
   "metadata": {
    "collapsed": false
   },
   "outputs": [
    {
     "ename": "NameError",
     "evalue": "name 'mots2' is not defined",
     "output_type": "error",
     "traceback": [
      "\u001b[1;31m---------------------------------------------------------------------------\u001b[0m",
      "\u001b[1;31mNameError\u001b[0m                                 Traceback (most recent call last)",
      "\u001b[1;32m<ipython-input-22-9c3a12c342df>\u001b[0m in \u001b[0;36m<module>\u001b[1;34m()\u001b[0m\n\u001b[0;32m      1\u001b[0m \u001b[0mbigram_measures2\u001b[0m \u001b[1;33m=\u001b[0m \u001b[0mnltk\u001b[0m\u001b[1;33m.\u001b[0m\u001b[0mcollocations\u001b[0m\u001b[1;33m.\u001b[0m\u001b[0mBigramAssocMeasures\u001b[0m\u001b[1;33m(\u001b[0m\u001b[1;33m)\u001b[0m\u001b[1;33m\u001b[0m\u001b[0m\n\u001b[1;32m----> 2\u001b[1;33m \u001b[0mtokens2\u001b[0m \u001b[1;33m=\u001b[0m \u001b[0mnltk\u001b[0m\u001b[1;33m.\u001b[0m\u001b[0mwordpunct_tokenize\u001b[0m\u001b[1;33m(\u001b[0m\u001b[0mmots2\u001b[0m\u001b[1;33m)\u001b[0m\u001b[1;33m\u001b[0m\u001b[0m\n\u001b[0m\u001b[0;32m      3\u001b[0m \u001b[0mfinder2\u001b[0m \u001b[1;33m=\u001b[0m \u001b[0mBigramCollocationFinder\u001b[0m\u001b[1;33m.\u001b[0m\u001b[0mfrom_words\u001b[0m\u001b[1;33m(\u001b[0m\u001b[0mtokens2\u001b[0m\u001b[1;33m)\u001b[0m\u001b[1;33m\u001b[0m\u001b[0m\n\u001b[0;32m      4\u001b[0m \u001b[0mfinder2\u001b[0m\u001b[1;33m.\u001b[0m\u001b[0mapply_freq_filter\u001b[0m\u001b[1;33m(\u001b[0m\u001b[1;36m4\u001b[0m\u001b[1;33m)\u001b[0m\u001b[1;33m\u001b[0m\u001b[0m\n\u001b[0;32m      5\u001b[0m \u001b[0mfinder2\u001b[0m\u001b[1;33m.\u001b[0m\u001b[0mnbest\u001b[0m\u001b[1;33m(\u001b[0m\u001b[0mbigram_measures2\u001b[0m\u001b[1;33m.\u001b[0m\u001b[0mpmi\u001b[0m\u001b[1;33m,\u001b[0m \u001b[1;36m20\u001b[0m\u001b[1;33m)\u001b[0m\u001b[1;33m\u001b[0m\u001b[0m\n",
      "\u001b[1;31mNameError\u001b[0m: name 'mots2' is not defined"
     ]
    }
   ],
   "source": [
    "bigram_measures2 = nltk.collocations.BigramAssocMeasures()\n",
    "tokens2 = nltk.wordpunct_tokenize(mots2)\n",
    "finder2 = BigramCollocationFinder.from_words(tokens2)\n",
    "finder2.apply_freq_filter(4)\n",
    "finder2.nbest(bigram_measures2.pmi, 20)"
   ]
  },
  {
   "cell_type": "code",
   "execution_count": 23,
   "metadata": {
    "collapsed": false
   },
   "outputs": [
    {
     "data": {
      "text/plain": [
       "0"
      ]
     },
     "execution_count": 23,
     "metadata": {},
     "output_type": "execute_result"
    }
   ],
   "source": [
    "len(mots)"
   ]
  },
  {
   "cell_type": "code",
   "execution_count": 24,
   "metadata": {
    "collapsed": false
   },
   "outputs": [
    {
     "ename": "NameError",
     "evalue": "name 'mots2' is not defined",
     "output_type": "error",
     "traceback": [
      "\u001b[1;31m---------------------------------------------------------------------------\u001b[0m",
      "\u001b[1;31mNameError\u001b[0m                                 Traceback (most recent call last)",
      "\u001b[1;32m<ipython-input-24-a1448fbf6d25>\u001b[0m in \u001b[0;36m<module>\u001b[1;34m()\u001b[0m\n\u001b[1;32m----> 1\u001b[1;33m \u001b[0mlen\u001b[0m\u001b[1;33m(\u001b[0m\u001b[0mmots2\u001b[0m\u001b[1;33m)\u001b[0m\u001b[1;33m\u001b[0m\u001b[0m\n\u001b[0m",
      "\u001b[1;31mNameError\u001b[0m: name 'mots2' is not defined"
     ]
    }
   ],
   "source": [
    "len(mots2)"
   ]
  },
  {
   "cell_type": "markdown",
   "metadata": {
    "collapsed": true
   },
   "source": [
    "- rules (constraint words)\n",
    "- contract/law (specific)\n",
    "- report\n",
    "collocations\n",
    "confusion matrix\n",
    "tf-idf"
   ]
  },
  {
   "cell_type": "markdown",
   "metadata": {},
   "source": []
  },
  {
   "cell_type": "markdown",
   "metadata": {
    "collapsed": true
   },
   "source": [
    "# construct a projection matrix from a frequency space to a topic space"
   ]
  },
  {
   "cell_type": "code",
   "execution_count": 25,
   "metadata": {
    "collapsed": false
   },
   "outputs": [],
   "source": [
    "# translate the lda topics in dictionnaries\n",
    "i = 0\n",
    "topics = dict()\n",
    "wordset = set()\n",
    "for a in lda.print_topics(100):\n",
    "    topic = dict()\n",
    "#     print a\n",
    "    pairs = a.split( ' + ')\n",
    "    for p in pairs:\n",
    "        pair = p.split('*')\n",
    "#         print pair[0]\n",
    "        value = float(pair[0])\n",
    "        key = unicode(pair[1])\n",
    "        topic[key] = value\n",
    "        wordset.add(key)\n",
    "    topics[i] = topic   \n",
    "    i += 1\n",
    "    \n"
   ]
  },
  {
   "cell_type": "code",
   "execution_count": 26,
   "metadata": {
    "collapsed": false
   },
   "outputs": [],
   "source": [
    "i = 0\n",
    "word_dict = dict()\n",
    "for w in wordset:\n",
    "    word_dict[i] = w\n",
    "    i += 1\n",
    "    \n",
    "    \n",
    "word2int = dict()\n",
    "for i in word_dict:\n",
    "    word2int[word_dict[i]] = i"
   ]
  },
  {
   "cell_type": "code",
   "execution_count": 27,
   "metadata": {
    "collapsed": false
   },
   "outputs": [
    {
     "name": "stdout",
     "output_type": "stream",
     "text": [
      "952\n"
     ]
    }
   ],
   "source": [
    "print len(wordset)"
   ]
  },
  {
   "cell_type": "code",
   "execution_count": 32,
   "metadata": {
    "collapsed": false
   },
   "outputs": [],
   "source": [
    "import math\n",
    "#normalize topics\n",
    "for t in topics:\n",
    "    s = 0.0\n",
    "    for v in topics[t].values():\n",
    "        s+= v**2\n",
    "    s = math.sqrt(s)\n",
    "    inv_s = 1.0 / float(s)\n",
    "    \n",
    "    for key in topics[t]:\n",
    "        topics[t][key] = topics[t][key] * inv_s"
   ]
  },
  {
   "cell_type": "code",
   "execution_count": 33,
   "metadata": {
    "collapsed": false
   },
   "outputs": [
    {
     "name": "stdout",
     "output_type": "stream",
     "text": [
      "[[ 0.  0.  0. ...,  0.  0.  0.]\n",
      " [ 0.  0.  0. ...,  0.  0.  0.]\n",
      " [ 0.  0.  0. ...,  0.  0.  0.]\n",
      " ..., \n",
      " [ 0.  0.  0. ...,  0.  0.  0.]\n",
      " [ 0.  0.  0. ...,  0.  0.  0.]\n",
      " [ 0.  0.  0. ...,  0.  0.  0.]]\n"
     ]
    }
   ],
   "source": [
    "from scipy.sparse import *\n",
    "from scipy import *\n",
    "M = dok_matrix((len(wordset),len(topics)), dtype=float32)\n",
    "\n",
    "print M.todense()"
   ]
  },
  {
   "cell_type": "code",
   "execution_count": 34,
   "metadata": {
    "collapsed": false
   },
   "outputs": [],
   "source": [
    "for i in range(0,len(wordset)):\n",
    "    word = word_dict[i]\n",
    "    for j in range(0, len(topics)):\n",
    "        topic = topics[j]\n",
    "        if word in topic.keys():\n",
    "            M[ i,j] = topic[word]\n",
    "        "
   ]
  },
  {
   "cell_type": "markdown",
   "metadata": {},
   "source": [
    "## convert tokens to frequency space"
   ]
  },
  {
   "cell_type": "code",
   "execution_count": 35,
   "metadata": {
    "collapsed": true
   },
   "outputs": [],
   "source": [
    "def tokensToFrequencies( tokens ):\n",
    "    x = dok_matrix((1, len(wordset)), dtype=float32)\n",
    "    for t in tokens:\n",
    "        if t in word2int.keys():\n",
    "            x[0,word2int[t]] += 1          \n",
    "    return x"
   ]
  },
  {
   "cell_type": "code",
   "execution_count": 36,
   "metadata": {
    "collapsed": false,
    "scrolled": true
   },
   "outputs": [
    {
     "name": "stdout",
     "output_type": "stream",
     "text": [
      "  (0, 609)\t2.0\n",
      "  (0, 470)\t4.0\n",
      "  (0, 411)\t3.0\n",
      "  (0, 856)\t4.0\n",
      "  (0, 24)\t9.0\n",
      "  (0, 148)\t10.0\n",
      "  (0, 910)\t3.0\n",
      "  (0, 243)\t4.0\n",
      "  (0, 696)\t121.0\n",
      "  (0, 365)\t5.0\n",
      "  (0, 722)\t1.0\n",
      "  (0, 433)\t4.0\n",
      "  (0, 742)\t1.0\n",
      "  (0, 811)\t6.0\n",
      "  (0, 400)\t1.0\n",
      "  (0, 404)\t8.0\n",
      "  (0, 266)\t1.0\n",
      "  (0, 255)\t4.0\n",
      "  (0, 361)\t28.0\n",
      "  (0, 478)\t14.0\n",
      "  (0, 642)\t1.0\n",
      "  (0, 668)\t8.0\n",
      "  (0, 123)\t1.0\n",
      "  (0, 672)\t4.0\n",
      "  (0, 405)\t1.0\n",
      "  :\t:\n",
      "  (0, 136)\t10.0\n",
      "  (0, 92)\t1.0\n",
      "  (0, 385)\t27.0\n",
      "  (0, 392)\t14.0\n",
      "  (0, 96)\t24.0\n",
      "  (0, 463)\t61.0\n",
      "  (0, 692)\t7.0\n",
      "  (0, 360)\t1.0\n",
      "  (0, 686)\t16.0\n",
      "  (0, 19)\t11.0\n",
      "  (0, 628)\t75.0\n",
      "  (0, 551)\t1.0\n",
      "  (0, 876)\t7.0\n",
      "  (0, 465)\t1.0\n",
      "  (0, 743)\t3.0\n",
      "  (0, 459)\t1.0\n",
      "  (0, 869)\t1.0\n",
      "  (0, 799)\t23.0\n",
      "  (0, 68)\t7.0\n",
      "  (0, 265)\t1.0\n",
      "  (0, 803)\t1.0\n",
      "  (0, 564)\t20.0\n",
      "  (0, 403)\t4.0\n",
      "  (0, 247)\t16.0\n",
      "  (0, 60)\t2.0\n",
      "user\n"
     ]
    }
   ],
   "source": [
    "# test\n",
    "tokens = load_and_tokenize(unicode(u\"source_texts/_WL-Contact_Technical_And_Functional_Proposal-1-en-de-T.mxliff\"))\n",
    "x = tokensToFrequencies(tokens)\n",
    "print x\n",
    "print word_dict[696]"
   ]
  },
  {
   "cell_type": "code",
   "execution_count": 154,
   "metadata": {
    "collapsed": false
   },
   "outputs": [],
   "source": [
    "def getSemanticVector( path ):\n",
    "    tokens = load_and_tokenize(path)\n",
    "    if tokens == None:\n",
    "        print \" in getSemanticVector: no tokens\"\n",
    "        return None\n",
    "    else:\n",
    "        return tokensToFrequencies( tokens ) * M\n",
    "\n",
    "\n",
    "def getClosestTopic(v , topic_to_display = -1):\n",
    "    if v != None:\n",
    "        i_max = 0\n",
    "        m = 0\n",
    "        results = dict()\n",
    "        for i in range(0,len(topics)):\n",
    "            results[i] = v[0,i]  \n",
    "        k = 1\n",
    "        if topic_to_display > 0:\n",
    "            printResults_closestTopics( results, topic_to_display)\n",
    "\n",
    "        return results\n",
    "    else:\n",
    "        return None\n",
    "\n",
    "def printResults_closestTopics( results, n):\n",
    "    if results != None:\n",
    "        k = 1\n",
    "        for i in sorted(results.items(), key=lambda x: x[1])[::-1][:n]:\n",
    "            print str(k) + \": \"  + str(topics[i[0]].keys())\n",
    "            k += 1\n",
    "            print"
   ]
  },
  {
   "cell_type": "code",
   "execution_count": 38,
   "metadata": {
    "collapsed": false
   },
   "outputs": [],
   "source": [
    "results = getClosestTopic( getSemanticVector( unicode(u\"source_texts/_WL-Contact_Technical_And_Functional_Proposal-1-en-de-T.mxliff\") ) )"
   ]
  },
  {
   "cell_type": "code",
   "execution_count": 39,
   "metadata": {
    "collapsed": false
   },
   "outputs": [
    {
     "name": "stdout",
     "output_type": "stream",
     "text": [
      "1: [u'web', u'users', u'mobile', u'app', u'system', u'taluka', u'user', u'android', u'data', u'software']\n",
      "\n",
      "2: [u'development', u'management', u'business', u'students', u'research', u'founded', u'institute', u'services', u'education', u'technology']\n",
      "\n",
      "3: [u'television', u'discal', u'tv', u'broadcasting', u'station', u'radio', u'news', u'fm', u'channel', u'suffusion']\n",
      "\n",
      "None\n",
      "{0: 1.8829726, 1: 1.343742, 2: 10.392506, 3: 0.0, 4: 0.78321779, 5: 0.0, 6: 0.0, 7: 0.51851851, 8: 0.82112849, 9: 0.19824558, 10: 1.6329932, 11: 0.0, 12: 0.0, 13: 0.0, 14: 0.5647825, 15: 0.0, 16: 1.5091984, 17: 0.0, 18: 3.5395093, 19: 0.0, 20: 6.2225528, 21: 0.0, 22: 0.0, 23: 0.14897926, 24: 1.7060845, 25: 59.896564, 26: 0.0, 27: 0.0, 28: 0.0, 29: 3.0127451, 30: 0.0, 31: 0.0, 32: 3.1782243, 33: 2.424871, 34: 7.3886313, 35: 16.162758, 36: 6.2868309, 37: 0.0, 38: 5.706265, 39: 3.4827106, 40: 0.18632104, 41: 0.54886723, 42: 0.0, 43: 0.13438825, 44: 22.152937, 45: 0.0, 46: 0.0, 47: 0.0, 48: 0.65028417, 49: 1.4070029, 50: 0.18594287, 51: 0.0, 52: 0.0, 53: 0.0, 54: 0.0, 55: 0.0, 56: 0.0, 57: 3.6882768, 58: 0.0, 59: 0.0, 60: 0.0, 61: 0.0, 62: 0.0, 63: 20.909355, 64: 2.2373686, 65: 4.0940781, 66: 0.2309401, 67: 0.62217104, 68: 0.44183609, 69: 0.15029061, 70: 0.0, 71: 0.0, 72: 68.349091, 73: 0.35355338, 74: 0.26703036, 75: 0.0, 76: 0.0, 77: 6.790997, 78: 0.0, 79: 1.5998341, 80: 0.12393252, 81: 2.6485088, 82: 0.0, 83: 0.0, 84: 1.396997, 85: 0.0, 86: 0.72280633, 87: 0.0, 88: 0.0, 89: 0.0, 90: 0.0, 91: 0.0, 92: 0.0, 93: 0.0, 94: 0.0, 95: 0.0, 96: 0.0, 97: 1.3856406, 98: 0.0, 99: 0.0}\n"
     ]
    }
   ],
   "source": [
    "print printResults_closestTopics(results, 3)\n",
    "\n",
    "print results"
   ]
  },
  {
   "cell_type": "markdown",
   "metadata": {},
   "source": [
    "# retrieve distribution of topics"
   ]
  },
  {
   "cell_type": "code",
   "execution_count": 40,
   "metadata": {
    "collapsed": false
   },
   "outputs": [
    {
     "name": "stdout",
     "output_type": "stream",
     "text": [
      "all_source_texts/13_pd_spec_fortigel_b-en-ru-T.mxliff\n",
      "all_source_texts/140702_swatch_SOM_A4_preview-en-fr-T.mxliff\n",
      "all_source_texts/1410-0002 DEEP SEA MONSTER Press Outs-en-fr_ca-CR.mxliff\n",
      "all_source_texts/1410-0002 FAST FLESH EATERS pressouts-en-fr_ca-CR.mxliff\n",
      "all_source_texts/1410-0002 fearsome fighters Press Outs-en-fr_ca-CR.mxliff\n",
      "all_source_texts/1410-0002 Giants of the Jurassic pressouts-en-fr_ca-CR.mxliff\n",
      "all_source_texts/1410-0002 Killers of Cretaceous pressouts-en-fr_ca-CR.mxliff\n",
      "all_source_texts/1410-0002 mega meateater pressouts -en-fr_ca-CR.mxliff\n",
      "all_source_texts/1814_Imbox Imagebrochure_REN 2_2015-8-20-en-de-T.mxliff\n",
      "all_source_texts/1844 0010 S&A MY BIG BOOK OF STICKER FUN COVER-en-fr_ca-CR.mxliff\n",
      "all_source_texts/1844 0010 S&A MY BIG BOOK OF STICKER FUN INTERIORS 1-8-en-fr_ca-CR.mxliff\n",
      "all_source_texts/1844 0010 S&A MY BIG BOOK OF STICKER FUN INTERIORS 25-40-en-fr_ca-CR.mxliff\n",
      "all_source_texts/1844 0010 S&A MY BIG BOOK OF STICKER FUN INTERIORS 41-48-en-fr_ca-CR.mxliff\n",
      "all_source_texts/1844 0010 S&A MY BIG BOOK OF STICKER FUN INTERIORS 49-60-en-fr_ca-CR.mxliff\n",
      "all_source_texts/1844 0010 S&A MY BIG BOOK OF STICKER FUN INTERIORS 61-72-en-fr_ca-CR.mxliff\n",
      "all_source_texts/1844 0010 S&A MY BIG BOOK OF STICKER FUN INTERIORS 73-84-en-fr_ca-CR.mxliff\n",
      "all_source_texts/1844 0010 S&A MY BIG BOOK OF STICKER FUN INTERIORS 85-96-en-fr_ca-CR.mxliff\n",
      "all_source_texts/1844 0010 S&A MY BIG BOOK OF STICKER FUN INTERIORS 9-24-en-fr_ca-CR.mxliff\n",
      "all_source_texts/1844 0010 S&A MY BIG BOOK OF STICKER FUN PRESSOUT_ STICKERS SECTION 5-en-fr_ca-CR.mxliff\n",
      "all_source_texts/1844 0010 S&A MY BIG BOOK OF STICKER FUN PRESSOUT_STICKERS SECTION 1-en-fr_ca-CR.mxliff\n",
      "all_source_texts/1844 0010 S&A MY BIG BOOK OF STICKER FUN PRESSOUT_STICKERS SECTION 3-en-fr_ca-CR.mxliff\n",
      "all_source_texts/1844 0010 S&A MY BIG BOOK OF STICKER FUN PRESSOUT_STICKERS SECTION 4-en-fr_ca-CR.mxliff\n",
      "all_source_texts/1844 0010 S&A MY BIG BOOK OF STICKER FUN PRESSOUT_STICKERS SECTION 6-en-fr_ca-CR.mxliff\n",
      "all_source_texts/1844 0010 S&A MY BIG BOOK OF STICKER FUN PRESSOU_ STICKERS SECTION 2-en-fr_ca-CR.mxliff\n",
      "all_source_texts/1844-0001 Mega Giant S&A Dinosaurs UK AMENDED-en-fr_ca-CR.mxliff\n",
      "all_source_texts/1844-0001 MEGA S&A Dinosaurs PLC V4-en-fr_ca-CR.mxliff\n",
      "all_source_texts/1920-0001 Fairy Interiors-en-fr_ca-CR.mxliff\n",
      "all_source_texts/1920-0001 Fairy PLC-en-fr_ca-CR.mxliff\n",
      "all_source_texts/1920-0002 Princess Interiors-en-fr_ca-CR.mxliff\n",
      "all_source_texts/1920-0002 Princess PLC-en-fr_ca-CR.mxliff\n",
      "all_source_texts/198_GB_ProduktBrochure_VacuumCoater-en-ru-T.mxliff\n",
      "all_source_texts/2.1 fcc_1200m_kazakhstan-tengizchevroil_dl_intl_2-2_G_EN-en-de-T.mxliff\n",
      "all_source_texts/2.2.1 fcc_1200m_kazakhstan-tengizchevroil_dl_intl_2-2_G_EN-en-de-T.mxliff\n",
      "all_source_texts/2.2.2 fcc_1200m_kazakhstan-tengizchevroil_dl_intl_2-2_G_EN-en-de-T.mxliff\n",
      "all_source_texts/2014-12-22 translations_enGB dacadoo platform-en-ko-T.mxliff\n",
      "all_source_texts/215_GB_produktbrochure_Hammermill-en-ru-T.mxliff\n",
      "all_source_texts/217_GB_produktbrochure_Pellet mill-en-ru-T.mxliff\n",
      "all_source_texts/245 GB_ImageBrochure_BioWaste_2014 (1)-en-ru-T.mxliff\n",
      "all_source_texts/257_GB_produktbrochure_PaddleMixer-en-ru-T.mxliff\n",
      "all_source_texts/258_GB_produktbrochure_extruder_pet_aqua-en-ru-T.mxliff\n",
      "all_source_texts/261_GB_produktbrochure_Paladin pellet mills_high-en-ru-T.mxliff\n",
      "all_source_texts/262_GB_produktbrochure_Dies and rools_press (1)-en-ru-T.mxliff\n",
      "all_source_texts/271_GB_ProduktBrochure_MicroFluidSystem-en-ru-T.mxliff\n",
      "all_source_texts/287_GB_produktbrochure_FeedExpander-en-ru-T.mxliff\n",
      "all_source_texts/290 GB ImageBrochure_Animal_2014-en-ru-T.mxliff\n",
      "all_source_texts/291 GB_ImageBrochure_Petfood_2014-en-ru-T.mxliff\n",
      "all_source_texts/292 GB_ImageBrochure_Aqua_2014-en-ru-T.mxliff\n",
      "all_source_texts/293_GB_Combi-zone dryer-en-ru-T.mxliff\n",
      "all_source_texts/3 Minute Beauty Intro Copy_Translation Template_deadline 20. april-en-da-T.mxliff\n",
      "all_source_texts/320_GB_Plant_and_process_controls_ny-en-de-T.mxliff\n",
      "all_source_texts/5 tips fra planteeksperten_en-GB-en-it-T.mxliff\n",
      "all_source_texts/591_GB_produktbrochure_Filter-en-ru-T.mxliff\n",
      "all_source_texts/900 GB_Company Profile_2015-en-ru-T.mxliff\n",
      "all_source_texts/Allg. Hinweise_EN-en-fa-T.mxliff\n",
      "all_source_texts/ANR script_Final_Translation Template-deadline 20. april-en-da-T.mxliff\n",
      "all_source_texts/aps_SRM_Ariba_Adapter_Webinar_20150827_EN_Übersetzer-en-de-T.mxliff\n",
      "all_source_texts/babyshop texter vecka 33-2-en-da-T.mxliff\n",
      "all_source_texts/babyshop texter vecka 33-2-en-fi-T.mxliff\n",
      "all_source_texts/babyshop texter vecka 33-3 (162-327)-en-da-T.mxliff\n",
      "all_source_texts/babyshop texter vecka 33-3 (162-327)-en-fi-T.mxliff\n",
      "all_source_texts/babyshop texter vecka 33-4 (328-353)-en-da-T.mxliff\n",
      "all_source_texts/babyshop texter vecka 33-4 (328-353)-en-fi-T.mxliff\n",
      "all_source_texts/babyshop texter vecka 33-5 (156-162)-en-da-T.mxliff\n",
      "all_source_texts/babyshop texter vecka 33-5 (156-162)-en-fi-T.mxliff\n",
      "all_source_texts/babyshop texter vecka 33-en-da-T.mxliff\n",
      "all_source_texts/babyshop texter vecka 33-en-fi-T.mxliff\n",
      "all_source_texts/Best of the Best Weekly Tips v4-en-da-T.mxliff\n",
      "all_source_texts/Beth¹s Blog 1 v3-en-da-T.mxliff\n",
      "all_source_texts/Beth¹s Blog 2 v1-en-da-T.mxliff\n",
      "all_source_texts/Beth¹s Blog 3 v3-en-da-T.mxliff\n",
      "all_source_texts/BroschA4en_2015_SPEKON_web-en-ar-T.mxliff\n",
      "all_source_texts/BSO Teil B_Zwerchallee_EN-en-fa-T.mxliff\n",
      "all_source_texts/BSO_B_EBS_EN-en-fa-T.mxliff\n",
      "all_source_texts/bso_b_Ludwigsburger_EN-en-fa-T.mxliff\n",
      "all_source_texts/BSO_B_Wormser_EN-en-fa-T.mxliff\n",
      "all_source_texts/BSO_B_WQS_EN-en-fa-T.mxliff\n",
      "all_source_texts/Centax Telecom agreement 1 300915-en-de-T.mxliff\n",
      "all_source_texts/ContentMatrix_Final Translation Template_deadline 13. march-en-da-T.mxliff\n",
      "all_source_texts/ContentMatrix_Final Translation Template_SWEDISH-en-da-T.mxliff\n",
      "all_source_texts/content_no-en-no-T.mxliff\n",
      "all_source_texts/CSC - UTMB Ispo Press Conference Press Release 090215 (1)-en-de-T.mxliff\n",
      "all_source_texts/Customer needs analysis with ratings_Final[1]-en-fr-T.mxliff\n",
      "all_source_texts/da-en-da-T.mxliff\n",
      "all_source_texts/De 12 varianter - blyanten_en-GB-en-it-T.mxliff\n",
      "all_source_texts/DOC010915-01092015124758-en-de-T.mxliff\n",
      "all_source_texts/EL GMTC_Final Translation Template (2)_deadline 20. april-en-da-T.mxliff\n",
      "all_source_texts/ELX Weekly Wellness Tips v3-en-da-T.mxliff\n",
      "all_source_texts/ENG - Basic Modules_Eating Habits_V59-MH-en-ko-T.mxliff\n",
      "all_source_texts/ENG - Basic Modules_Food Intake-Beverages_QNA_V59-MH-en-ko-T.mxliff\n",
      "all_source_texts/ENG - Basic Modules_Food Intake_QNA_V59-MH-en-ko-T.mxliff\n",
      "all_source_texts/ENG - Triage-Questions_V59-MH-en-ko-T.mxliff\n",
      "all_source_texts/ENG - Ziele_V59-MH-en-ko-T.mxliff\n",
      "all_source_texts/ENG -Other_Nutrition_TranslationsV59-MH-en-ko-T.mxliff\n",
      "all_source_texts/ERS 51 - User Manual - 1.1-en-de-T.mxliff\n",
      "all_source_texts/eula-en-de-T.mxliff\n",
      "all_source_texts/External microsite_Final[1][2]-en-fr-T.mxliff\n",
      "all_source_texts/Hausordnung_EN-en-fa-T.mxliff\n",
      "all_source_texts/Hvad er mikrogrønt_en-GB-en-it-T.mxliff\n",
      "all_source_texts/HYP IPI _en-en-de-T.mxliff\n",
      "all_source_texts/ilv_presentation_v13.7_141111_ey_ds-2-en-zh-T.mxliff\n",
      "all_source_texts/Inspiration - tiny gardens_DA_en-GB-en-it-T.mxliff\n",
      "all_source_texts/joined-P2069-J1-2-3-4-en-it-T.mxliff\n",
      "all_source_texts/license_agreement_nexus-en-fr-T.mxliff\n",
      "all_source_texts/Om Sprout_en-GB-en-it-T.mxliff\n",
      "all_source_texts/Personlig sætning_en-GB-en-it-T.mxliff\n",
      "all_source_texts/Plant dit papir_en-GB-en-it-T.mxliff\n",
      "all_source_texts/Presse_en-GB-en-it-T.mxliff\n",
      "all_source_texts/Product IQ Quizzes v2-en-da-T.mxliff\n",
      "all_source_texts/Q & A_en-GB-en-it-T.mxliff\n",
      "all_source_texts/quality_dossier_fortigel_b_rev_6_2014 (1)-en-ru-T.mxliff\n",
      "all_source_texts/Re-Nutriv Script_Final Translation Template_deadline 20. april-en-da-T.mxliff\n",
      "all_source_texts/Resort Activities-en-fr-T.mxliff\n",
      "all_source_texts/russian_name.mxliff\n",
      "all_source_texts/Salesfolder Revlonissimo-en-de-T.mxliff\n",
      "all_source_texts/service agreement_draft_for_translation-en-de-T.mxliff\n",
      "all_source_texts/Sprout blyanten_en-GB-en-it-T.mxliff\n",
      "all_source_texts/Sprouts værdier_en-GB-en-it-T.mxliff\n",
      "all_source_texts/Sprout_PR_faktaark_en-GB-en-it-T.mxliff\n",
      "all_source_texts/Sprout_PR_funfacts_en-GB-en-it-T.mxliff\n",
      "all_source_texts/Sprout_PR_interview_en-GB-en-it-T.mxliff\n",
      "all_source_texts/Sprout_PR_tinygardens_en-GB-en-it-T.mxliff\n",
      "all_source_texts/SÅDAN GØR DU _en-GB-en-it-T.mxliff\n",
      "all_source_texts/Team Sprout_en-GB-en-it-T.mxliff\n",
      "all_source_texts/teksmobile.se_sv-SE_pwd43739_1418743604661-en-sv-T.mxliff\n",
      "all_source_texts/Text variables for e-mail report_Final[1]-en-fr-T.mxliff\n",
      "all_source_texts/Text variables for on-screen feedback_Final[1]-en-fr-T.mxliff\n",
      "all_source_texts/Text1_1070Woerter-en-de-T.mxliff\n",
      "all_source_texts/tiny gardens by Sprout_en-GB-en-it-T.mxliff\n",
      "all_source_texts/TS-2S iv-EU 3 FEB 2015 WORD-en-nl-T.mxliff\n",
      "all_source_texts/Turkish_Basketball_Clubs_Evaluationprogramme15-16_Repucom_150612_Übersetzten-en-tr-T.mxliff\n",
      "all_source_texts/TV-#124290-v1-Vehicle_Rental_Agreement__-_template clean_redl. UvH-en-de-T.mxliff\n",
      "all_source_texts/Underbilag 3 3 Leverandørens generelle løsningsbeskrivelse - BI-en-da-T.mxliff\n",
      "all_source_texts/Underbilag 3 3 Leverandørens generelle løsningsbeskrivelse - BU-en-da-T.mxliff\n",
      "all_source_texts/Underbilag 3 3 Leverandørens generelle løsningsbeskrivelse - IN-en-da-T.mxliff\n",
      "all_source_texts/Underbilag 3 3 Leverandørens generelle løsningsbeskrivelse - OP-en-da-T.mxliff\n",
      "all_source_texts/Underbilag 3 3 Leverandørens generelle løsningsbeskrivelse - PS-en-da-T.mxliff\n",
      "all_source_texts/Underbilag 3 3 Leverandørens generelle løsningsbeskrivelse - RE-en-da-T.mxliff\n",
      "all_source_texts/Underbilag 3 3 Leverandørens generelle løsningsbeskrivelse - TK-en-da-T.mxliff\n",
      "all_source_texts/Vecka 32-1 (29-80)-en-nb_no-T.mxliff\n",
      "all_source_texts/Vecka 32-2 (81-135)-en-nb_no-T.mxliff\n",
      "all_source_texts/Vecka 32-3 (136-182)-en-nb_no-T.mxliff\n",
      "all_source_texts/Vecka 32-4 (218-329)-en-nb_no-T.mxliff\n",
      "all_source_texts/Vecka 32-5 (362-423)-en-nb_no-T.mxliff\n",
      "all_source_texts/Vecka 32-6 (426-479)-en-nb_no-T.mxliff\n",
      "all_source_texts/Vecka 32-7 (481-497)-en-nb_no-T.mxliff\n",
      "all_source_texts/Vecka 39 - 1 (5-50)-en-nb_no-T.mxliff\n",
      "all_source_texts/Vecka 39 - 2 (51-128)-en-nb_no-T.mxliff\n",
      "all_source_texts/Vecka 39 - 3 (130-190)-en-nb_no-T.mxliff\n",
      "all_source_texts/Vecka 39 - 4 (192-243)-en-nb_no-T.mxliff\n",
      "all_source_texts/Vecka 39 - 5 (246-304)-en-nb_no-T.mxliff\n",
      "all_source_texts/Vecka 39 - 6 (308-357)-en-nb_no-T.mxliff\n",
      "all_source_texts/Vecka 39 - 7 (361-410)-en-nb_no-T.mxliff\n",
      "all_source_texts/Vecka 39 - 8 (414-442)-en-nb_no-T.mxliff\n",
      "all_source_texts/Vejledning pelvifine-en-da-T.mxliff\n",
      "all_source_texts/Vejledning til tiny gardens_en-GB-en-it-T.mxliff\n",
      "all_source_texts/Vision & Mission2_en-GB-en-it-T.mxliff\n",
      "all_source_texts/Vores ansvar_en-GB-en-it-T.mxliff\n",
      "all_source_texts/Welcome Video Script_Final Translation Template_deadline 13. march-en-da-T.mxliff\n",
      "all_source_texts/_WL-Contact_Technical_And_Functional_Proposal-1-en-de-T.mxliff\n",
      "all_source_texts/13_pd_spec_fortigel_b-en-ru-T.mxliff\n",
      "all_source_texts/140702_swatch_SOM_A4_preview-en-fr-T.mxliff\n",
      "all_source_texts/1410-0002 DEEP SEA MONSTER Press Outs-en-fr_ca-CR.mxliff\n",
      "all_source_texts/1410-0002 FAST FLESH EATERS pressouts-en-fr_ca-CR.mxliff\n",
      "all_source_texts/1410-0002 fearsome fighters Press Outs-en-fr_ca-CR.mxliff\n",
      "all_source_texts/1410-0002 Giants of the Jurassic pressouts-en-fr_ca-CR.mxliff\n",
      "all_source_texts/1410-0002 Killers of Cretaceous pressouts-en-fr_ca-CR.mxliff\n",
      "all_source_texts/1410-0002 mega meateater pressouts -en-fr_ca-CR.mxliff\n",
      "all_source_texts/1814_Imbox Imagebrochure_REN 2_2015-8-20-en-de-T.mxliff\n",
      "all_source_texts/1844 0010 S&A MY BIG BOOK OF STICKER FUN COVER-en-fr_ca-CR.mxliff\n",
      "all_source_texts/1844 0010 S&A MY BIG BOOK OF STICKER FUN INTERIORS 1-8-en-fr_ca-CR.mxliff\n",
      "all_source_texts/1844 0010 S&A MY BIG BOOK OF STICKER FUN INTERIORS 25-40-en-fr_ca-CR.mxliff\n",
      "all_source_texts/1844 0010 S&A MY BIG BOOK OF STICKER FUN INTERIORS 41-48-en-fr_ca-CR.mxliff\n",
      "all_source_texts/1844 0010 S&A MY BIG BOOK OF STICKER FUN INTERIORS 49-60-en-fr_ca-CR.mxliff\n",
      "all_source_texts/1844 0010 S&A MY BIG BOOK OF STICKER FUN INTERIORS 61-72-en-fr_ca-CR.mxliff\n",
      "all_source_texts/1844 0010 S&A MY BIG BOOK OF STICKER FUN INTERIORS 73-84-en-fr_ca-CR.mxliff\n",
      "all_source_texts/1844 0010 S&A MY BIG BOOK OF STICKER FUN INTERIORS 85-96-en-fr_ca-CR.mxliff\n",
      "all_source_texts/1844 0010 S&A MY BIG BOOK OF STICKER FUN INTERIORS 9-24-en-fr_ca-CR.mxliff\n",
      "all_source_texts/1844 0010 S&A MY BIG BOOK OF STICKER FUN PRESSOUT_ STICKERS SECTION 5-en-fr_ca-CR.mxliff\n",
      "all_source_texts/1844 0010 S&A MY BIG BOOK OF STICKER FUN PRESSOUT_STICKERS SECTION 1-en-fr_ca-CR.mxliff\n",
      "all_source_texts/1844 0010 S&A MY BIG BOOK OF STICKER FUN PRESSOUT_STICKERS SECTION 3-en-fr_ca-CR.mxliff\n",
      "all_source_texts/1844 0010 S&A MY BIG BOOK OF STICKER FUN PRESSOUT_STICKERS SECTION 4-en-fr_ca-CR.mxliff\n",
      "all_source_texts/1844 0010 S&A MY BIG BOOK OF STICKER FUN PRESSOUT_STICKERS SECTION 6-en-fr_ca-CR.mxliff\n",
      "all_source_texts/1844 0010 S&A MY BIG BOOK OF STICKER FUN PRESSOU_ STICKERS SECTION 2-en-fr_ca-CR.mxliff\n",
      "all_source_texts/1844-0001 Mega Giant S&A Dinosaurs UK AMENDED-en-fr_ca-CR.mxliff\n",
      "all_source_texts/1844-0001 MEGA S&A Dinosaurs PLC V4-en-fr_ca-CR.mxliff\n",
      "all_source_texts/1920-0001 Fairy Interiors-en-fr_ca-CR.mxliff\n",
      "all_source_texts/1920-0001 Fairy PLC-en-fr_ca-CR.mxliff\n",
      "all_source_texts/1920-0002 Princess Interiors-en-fr_ca-CR.mxliff\n",
      "all_source_texts/1920-0002 Princess PLC-en-fr_ca-CR.mxliff\n",
      "all_source_texts/198_GB_ProduktBrochure_VacuumCoater-en-ru-T.mxliff\n",
      "all_source_texts/2.1 fcc_1200m_kazakhstan-tengizchevroil_dl_intl_2-2_G_EN-en-de-T.mxliff\n",
      "all_source_texts/2.2.1 fcc_1200m_kazakhstan-tengizchevroil_dl_intl_2-2_G_EN-en-de-T.mxliff\n",
      "all_source_texts/2.2.2 fcc_1200m_kazakhstan-tengizchevroil_dl_intl_2-2_G_EN-en-de-T.mxliff\n",
      "all_source_texts/2014-12-22 translations_enGB dacadoo platform-en-ko-T.mxliff\n",
      "all_source_texts/215_GB_produktbrochure_Hammermill-en-ru-T.mxliff\n",
      "all_source_texts/217_GB_produktbrochure_Pellet mill-en-ru-T.mxliff\n",
      "all_source_texts/245 GB_ImageBrochure_BioWaste_2014 (1)-en-ru-T.mxliff\n",
      "all_source_texts/257_GB_produktbrochure_PaddleMixer-en-ru-T.mxliff\n",
      "all_source_texts/258_GB_produktbrochure_extruder_pet_aqua-en-ru-T.mxliff\n",
      "all_source_texts/261_GB_produktbrochure_Paladin pellet mills_high-en-ru-T.mxliff\n",
      "all_source_texts/262_GB_produktbrochure_Dies and rools_press (1)-en-ru-T.mxliff\n",
      "all_source_texts/271_GB_ProduktBrochure_MicroFluidSystem-en-ru-T.mxliff\n",
      "all_source_texts/287_GB_produktbrochure_FeedExpander-en-ru-T.mxliff\n",
      "all_source_texts/290 GB ImageBrochure_Animal_2014-en-ru-T.mxliff\n",
      "all_source_texts/291 GB_ImageBrochure_Petfood_2014-en-ru-T.mxliff\n",
      "all_source_texts/292 GB_ImageBrochure_Aqua_2014-en-ru-T.mxliff\n",
      "all_source_texts/293_GB_Combi-zone dryer-en-ru-T.mxliff\n",
      "all_source_texts/3 Minute Beauty Intro Copy_Translation Template_deadline 20. april-en-da-T.mxliff\n",
      "all_source_texts/320_GB_Plant_and_process_controls_ny-en-de-T.mxliff\n",
      "all_source_texts/5 tips fra planteeksperten_en-GB-en-it-T.mxliff\n",
      "all_source_texts/591_GB_produktbrochure_Filter-en-ru-T.mxliff\n",
      "all_source_texts/900 GB_Company Profile_2015-en-ru-T.mxliff\n",
      "all_source_texts/Allg. Hinweise_EN-en-fa-T.mxliff\n",
      "all_source_texts/ANR script_Final_Translation Template-deadline 20. april-en-da-T.mxliff\n",
      "all_source_texts/aps_SRM_Ariba_Adapter_Webinar_20150827_EN_�bersetzer-en-de-T.mxliff\n",
      "all_source_texts/babyshop texter vecka 33-2-en-da-T.mxliff\n",
      "all_source_texts/babyshop texter vecka 33-2-en-fi-T.mxliff\n",
      "all_source_texts/babyshop texter vecka 33-3 (162-327)-en-da-T.mxliff\n",
      "all_source_texts/babyshop texter vecka 33-3 (162-327)-en-fi-T.mxliff\n",
      "all_source_texts/babyshop texter vecka 33-4 (328-353)-en-da-T.mxliff\n",
      "all_source_texts/babyshop texter vecka 33-4 (328-353)-en-fi-T.mxliff\n",
      "all_source_texts/babyshop texter vecka 33-5 (156-162)-en-da-T.mxliff\n",
      "all_source_texts/babyshop texter vecka 33-5 (156-162)-en-fi-T.mxliff\n",
      "all_source_texts/babyshop texter vecka 33-en-da-T.mxliff\n",
      "all_source_texts/babyshop texter vecka 33-en-fi-T.mxliff\n",
      "all_source_texts/Best of the Best Weekly Tips v4-en-da-T.mxliff\n",
      "all_source_texts/Beth�s Blog 1 v3-en-da-T.mxliff\n",
      "all_source_texts/Beth�s Blog 2 v1-en-da-T.mxliff\n",
      "all_source_texts/Beth�s Blog 3 v3-en-da-T.mxliff\n",
      "all_source_texts/BroschA4en_2015_SPEKON_web-en-ar-T.mxliff\n",
      "all_source_texts/BSO Teil B_Zwerchallee_EN-en-fa-T.mxliff\n",
      "all_source_texts/BSO_B_EBS_EN-en-fa-T.mxliff\n",
      "all_source_texts/bso_b_Ludwigsburger_EN-en-fa-T.mxliff\n",
      "all_source_texts/BSO_B_Wormser_EN-en-fa-T.mxliff\n",
      "all_source_texts/BSO_B_WQS_EN-en-fa-T.mxliff\n",
      "all_source_texts/Centax Telecom agreement 1 300915-en-de-T.mxliff\n",
      "all_source_texts/ContentMatrix_Final Translation Template_deadline 13. march-en-da-T.mxliff\n",
      "all_source_texts/ContentMatrix_Final Translation Template_SWEDISH-en-da-T.mxliff\n",
      "all_source_texts/content_no-en-no-T.mxliff\n",
      "all_source_texts/CSC - UTMB Ispo Press Conference Press Release 090215 (1)-en-de-T.mxliff\n",
      "all_source_texts/Customer needs analysis with ratings_Final[1]-en-fr-T.mxliff\n",
      "all_source_texts/da-en-da-T.mxliff\n",
      "all_source_texts/De 12 varianter - blyanten_en-GB-en-it-T.mxliff\n",
      "all_source_texts/DOC010915-01092015124758-en-de-T.mxliff\n",
      "all_source_texts/EL GMTC_Final Translation Template (2)_deadline 20. april-en-da-T.mxliff\n",
      "all_source_texts/ELX Weekly Wellness Tips v3-en-da-T.mxliff\n",
      "all_source_texts/ENG - Basic Modules_Eating Habits_V59-MH-en-ko-T.mxliff\n",
      "all_source_texts/ENG - Basic Modules_Food Intake-Beverages_QNA_V59-MH-en-ko-T.mxliff\n",
      "all_source_texts/ENG - Basic Modules_Food Intake_QNA_V59-MH-en-ko-T.mxliff\n",
      "all_source_texts/ENG - Triage-Questions_V59-MH-en-ko-T.mxliff\n",
      "all_source_texts/ENG - Ziele_V59-MH-en-ko-T.mxliff\n",
      "all_source_texts/ENG -Other_Nutrition_TranslationsV59-MH-en-ko-T.mxliff\n",
      "all_source_texts/ERS 51 - User Manual - 1.1-en-de-T.mxliff\n",
      "all_source_texts/eula-en-de-T.mxliff\n",
      "all_source_texts/External microsite_Final[1][2]-en-fr-T.mxliff\n",
      "all_source_texts/Hausordnung_EN-en-fa-T.mxliff\n",
      "all_source_texts/Hvad er mikrogr�nt_en-GB-en-it-T.mxliff\n",
      "all_source_texts/HYP IPI _en-en-de-T.mxliff\n",
      "all_source_texts/ilv_presentation_v13.7_141111_ey_ds-2-en-zh-T.mxliff\n",
      "all_source_texts/Inspiration - tiny gardens_DA_en-GB-en-it-T.mxliff\n",
      "all_source_texts/joined-P2069-J1-2-3-4-en-it-T.mxliff\n",
      "all_source_texts/license_agreement_nexus-en-fr-T.mxliff\n",
      "all_source_texts/Om Sprout_en-GB-en-it-T.mxliff\n",
      "all_source_texts/Personlig s�tning_en-GB-en-it-T.mxliff\n",
      "all_source_texts/Plant dit papir_en-GB-en-it-T.mxliff\n",
      "all_source_texts/Presse_en-GB-en-it-T.mxliff\n",
      "all_source_texts/Product IQ Quizzes v2-en-da-T.mxliff\n",
      "all_source_texts/Q & A_en-GB-en-it-T.mxliff\n",
      "all_source_texts/quality_dossier_fortigel_b_rev_6_2014 (1)-en-ru-T.mxliff\n",
      "all_source_texts/Re-Nutriv Script_Final Translation Template_deadline 20. april-en-da-T.mxliff\n",
      "all_source_texts/Resort Activities-en-fr-T.mxliff\n",
      "all_source_texts/russian_name.mxliff\n",
      "all_source_texts/Salesfolder Revlonissimo-en-de-T.mxliff\n",
      "all_source_texts/service agreement_draft_for_translation-en-de-T.mxliff\n",
      "all_source_texts/Sprout blyanten_en-GB-en-it-T.mxliff\n",
      "all_source_texts/Sprouts v�rdier_en-GB-en-it-T.mxliff\n",
      "all_source_texts/Sprout_PR_faktaark_en-GB-en-it-T.mxliff\n",
      "all_source_texts/Sprout_PR_funfacts_en-GB-en-it-T.mxliff\n",
      "all_source_texts/Sprout_PR_interview_en-GB-en-it-T.mxliff\n",
      "all_source_texts/Sprout_PR_tinygardens_en-GB-en-it-T.mxliff\n",
      "all_source_texts/S�DAN G�R DU _en-GB-en-it-T.mxliff\n",
      "all_source_texts/Team Sprout_en-GB-en-it-T.mxliff\n",
      "all_source_texts/teksmobile.se_sv-SE_pwd43739_1418743604661-en-sv-T.mxliff\n",
      "all_source_texts/Text variables for e-mail report_Final[1]-en-fr-T.mxliff\n",
      "all_source_texts/Text variables for on-screen feedback_Final[1]-en-fr-T.mxliff\n",
      "all_source_texts/Text1_1070Woerter-en-de-T.mxliff\n",
      "all_source_texts/tiny gardens by Sprout_en-GB-en-it-T.mxliff\n",
      "all_source_texts/TS-2S iv-EU 3 FEB 2015 WORD-en-nl-T.mxliff\n",
      "all_source_texts/Turkish_Basketball_Clubs_Evaluationprogramme15-16_Repucom_150612_�bersetzten-en-tr-T.mxliff\n",
      "all_source_texts/TV-#124290-v1-Vehicle_Rental_Agreement__-_template clean_redl. UvH-en-de-T.mxliff\n",
      "all_source_texts/Underbilag 3 3 Leverand�rens generelle l�sningsbeskrivelse - BI-en-da-T.mxliff\n",
      "all_source_texts/Underbilag 3 3 Leverand�rens generelle l�sningsbeskrivelse - BU-en-da-T.mxliff\n",
      "all_source_texts/Underbilag 3 3 Leverand�rens generelle l�sningsbeskrivelse - IN-en-da-T.mxliff\n",
      "all_source_texts/Underbilag 3 3 Leverand�rens generelle l�sningsbeskrivelse - OP-en-da-T.mxliff\n",
      "all_source_texts/Underbilag 3 3 Leverand�rens generelle l�sningsbeskrivelse - PS-en-da-T.mxliff\n",
      "all_source_texts/Underbilag 3 3 Leverand�rens generelle l�sningsbeskrivelse - RE-en-da-T.mxliff\n",
      "all_source_texts/Underbilag 3 3 Leverand�rens generelle l�sningsbeskrivelse - TK-en-da-T.mxliff\n",
      "all_source_texts/Vecka 32-1 (29-80)-en-nb_no-T.mxliff\n",
      "all_source_texts/Vecka 32-2 (81-135)-en-nb_no-T.mxliff\n",
      "all_source_texts/Vecka 32-3 (136-182)-en-nb_no-T.mxliff\n",
      "all_source_texts/Vecka 32-4 (218-329)-en-nb_no-T.mxliff\n",
      "all_source_texts/Vecka 32-5 (362-423)-en-nb_no-T.mxliff\n",
      "all_source_texts/Vecka 32-6 (426-479)-en-nb_no-T.mxliff\n",
      "all_source_texts/Vecka 32-7 (481-497)-en-nb_no-T.mxliff\n",
      "all_source_texts/Vecka 39 - 1 (5-50)-en-nb_no-T.mxliff\n",
      "all_source_texts/Vecka 39 - 2 (51-128)-en-nb_no-T.mxliff\n",
      "all_source_texts/Vecka 39 - 3 (130-190)-en-nb_no-T.mxliff\n",
      "all_source_texts/Vecka 39 - 4 (192-243)-en-nb_no-T.mxliff\n",
      "all_source_texts/Vecka 39 - 5 (246-304)-en-nb_no-T.mxliff\n",
      "all_source_texts/Vecka 39 - 6 (308-357)-en-nb_no-T.mxliff\n",
      "all_source_texts/Vecka 39 - 7 (361-410)-en-nb_no-T.mxliff\n",
      "all_source_texts/Vecka 39 - 8 (414-442)-en-nb_no-T.mxliff\n",
      "all_source_texts/Vejledning pelvifine-en-da-T.mxliff\n",
      "all_source_texts/Vejledning til tiny gardens_en-GB-en-it-T.mxliff\n",
      "all_source_texts/Vision & Mission2_en-GB-en-it-T.mxliff\n",
      "all_source_texts/Vores ansvar_en-GB-en-it-T.mxliff\n",
      "all_source_texts/Welcome Video Script_Final Translation Template_deadline 13. march-en-da-T.mxliff\n",
      "all_source_texts/_WL-Contact_Technical_And_Functional_Proposal-1-en-de-T.mxliff\n"
     ]
    }
   ],
   "source": [
    "import os\n",
    "import sys\n",
    "filelist = []\n",
    "root = u\"all_source_texts/\"\n",
    "for filename in os.listdir(root):\n",
    "    filename = root + filename\n",
    "    print filename\n",
    "    filelist .append(filename.encode(sys.getfilesystemencoding()))\n",
    "    \n",
    "#     import glob\n",
    "# filelist = glob.glob('all_source_texts/*.mxliff')\n",
    "    \n",
    "for f in filelist:\n",
    "    print f"
   ]
  },
  {
   "cell_type": "code",
   "execution_count": 41,
   "metadata": {
    "collapsed": false
   },
   "outputs": [
    {
     "name": "stdout",
     "output_type": "stream",
     "text": [
      "159 files\n",
      "0 1 2 3 4 5 6 7 8 9 10 11 12 13 14 15 16 17 18 19 20 21 22 23 24 25 26 27 28 29 30 31 32 33 34 35 36 37 38 39 40 41 42 43 44 45 46 47 48 49 50 51 52 53 54 55 56 57 58 59 60 61 62 63 64 65 66 67 68 69 70 71 72 73 74 75 76 77 78 79 80 81 82 83 84 85 86 87 88 89 90 91 92 93 94 95 96 97 98 99 100 101 102 103 104 105 106 107 108 109 110 111 112 113 114 115 116 117 118 119 120 121 122 123 124 125 126 127 128 129 130 131 132 133 134 135 136 137 138 139 140 141 142 143 144 145 146 147 148 149 150 151 152 153 154 155 156 157 158\n"
     ]
    }
   ],
   "source": [
    "score_per_topic = dict()\n",
    "for i in topics:\n",
    "    score_per_topic[i] = 0.0\n",
    "    \n",
    "print \"%s files\" %len(filelist)\n",
    "i = 0\n",
    "all_results = dict()\n",
    "for f in filelist:\n",
    "    print i,\n",
    "    results = getClosestTopic( getSemanticVector( f ))\n",
    "    all_results[f] = results\n",
    "    if results != None:\n",
    "        for key in results:\n",
    "            score_per_topic[key] += results[key]\n",
    "    i += 1"
   ]
  },
  {
   "cell_type": "code",
   "execution_count": 45,
   "metadata": {
    "collapsed": false
   },
   "outputs": [
    {
     "data": {
      "text/plain": [
       "[<matplotlib.lines.Line2D at 0x19e46080>]"
      ]
     },
     "execution_count": 45,
     "metadata": {},
     "output_type": "execute_result"
    },
    {
     "data": {
      "image/png": "[encoded data removed]",
      "text/plain": [
       "<matplotlib.figure.Figure at 0x194c8d68>"
      ]
     },
     "metadata": {},
     "output_type": "display_data"
    }
   ],
   "source": [
    "import matplotlib\n",
    "%matplotlib inline \n",
    "import matplotlib.pyplot as plt\n",
    "matplotlib.rcParams['figure.figsize'] = (15.0, 8.0)\n",
    "\n",
    "plt.plot(score_per_topic.keys(), score_per_topic.values(),'orange', alpha = 0.6)"
   ]
  },
  {
   "cell_type": "markdown",
   "metadata": {},
   "source": [
    "# find labels"
   ]
  },
  {
   "cell_type": "code",
   "execution_count": 121,
   "metadata": {
    "collapsed": false,
    "scrolled": true
   },
   "outputs": [
    {
     "name": "stdout",
     "output_type": "stream",
     "text": [
      "fútbol\n",
      "série\n",
      "martín\n",
      "josé\n",
      "maría\n",
      "gijón\n",
      "și\n",
      "são\n",
      "lycée\n",
      "théâtre\n",
      "méxico\n"
     ]
    }
   ],
   "source": [
    "import operator\n",
    "topics_labels = dict()\n",
    "for i in topics: \n",
    "    x = topics[i]\n",
    "    sorted_x = sorted(x.items(), key=operator.itemgetter(1))[::-1]\n",
    "    s = ''\n",
    "    for e in sorted_x:\n",
    "        try:\n",
    "            s+= ' ' + str( e[0].decode('utf-8') )\n",
    "        except:\n",
    "            print e[0]\n",
    "#     print s\n",
    "    topics_labels[i] = s"
   ]
  },
  {
   "cell_type": "code",
   "execution_count": 131,
   "metadata": {
    "collapsed": false
   },
   "outputs": [
    {
     "name": "stdout",
     "output_type": "stream",
     "text": [
      "most common topics (score & labels)\n",
      "649.738262713\t software data app users taluka mobile android user system web\n",
      "309.438365415\t german der von und berlin germany die hans vienna austrian\n",
      "288.568334728\t business education students management technology services institute founded research development\n",
      "213.014088839\t porch engine fascia rear design aircraft power timber mw portico\n",
      "169.893714204\t medical hospital medicine health clinical care patients research disease cancer\n",
      "152.561792374\t french la jean france paris le du des les pierre\n",
      "131.186458528\t party election minister council elected elections political president cultivators votes\n",
      "130.048723683\t river lake mountain island creek water park dam forest region\n",
      "122.699321017\t species mm genus grey brown dark described pale costa gelechiidae\n",
      "101.722805798\t ship navy ships naval boat hms fleet class vessel submarine\n"
     ]
    }
   ],
   "source": [
    "score_per_topic_sorted =  sorted(score_per_topic.items(), key=operator.itemgetter(1))[::-1]\n",
    "\n",
    "X = []\n",
    "Y = []\n",
    "k = 0\n",
    "\n",
    "print \"most common topics (score & labels)\"\n",
    "for e in score_per_topic_sorted:\n",
    "    i = e[0]\n",
    "    Y.append(e[1])\n",
    "    X.append(topics_labels[i])\n",
    "    if k < 10:\n",
    "        print str(e[1]) + \"\\t\"+ str(topics_labels[i])\n",
    "    k+=1"
   ]
  },
  {
   "cell_type": "code",
   "execution_count": 132,
   "metadata": {
    "collapsed": false
   },
   "outputs": [
    {
     "data": {
      "text/html": [
       "<iframe id=\"igraph\" scrolling=\"no\" style=\"border:none;\"seamless=\"seamless\" src=\"https://plot.ly/~vlievin/83.embed\" height=\"525\" width=\"100%\"></iframe>"
      ],
      "text/plain": [
       "<plotly.tools.PlotlyDisplay object>"
      ]
     },
     "execution_count": 132,
     "metadata": {},
     "output_type": "execute_result"
    }
   ],
   "source": [
    "import plotly.tools as tls\n",
    "\n",
    "tls.embed(url)"
   ]
  },
  {
   "cell_type": "code",
   "execution_count": 130,
   "metadata": {
    "collapsed": false
   },
   "outputs": [],
   "source": [
    "import plotly.plotly as py\n",
    "py.sign_in('vlievin', '3epodkv7pd')\n",
    "import matplotlib.pyplot as plt\n",
    "import numpy as np\n",
    "import plotly.plotly as py\n",
    "matplotlib.rcParams['figure.figsize'] = (20.0, 20.0)\n",
    "import plotly.plotly as py\n",
    "from plotly.graph_objs import *\n",
    "\n",
    "trace1 = Bar(\n",
    "        x= X,\n",
    "        y= Y\n",
    "    )\n",
    "data = Data([trace1])\n",
    "\n",
    "url = py.plot(data)\n",
    "\n"
   ]
  },
  {
   "cell_type": "code",
   "execution_count": 133,
   "metadata": {
    "collapsed": false
   },
   "outputs": [
    {
     "name": "stdout",
     "output_type": "stream",
     "text": [
      "most common topics (score & labels)\n",
      "649.738262713\t software data app users taluka mobile android user system web\n",
      "309.438365415\t german der von und berlin germany die hans vienna austrian\n",
      "288.568334728\t business education students management technology services institute founded research development\n",
      "213.014088839\t porch engine fascia rear design aircraft power timber mw portico\n",
      "169.893714204\t medical hospital medicine health clinical care patients research disease cancer\n",
      "152.561792374\t french la jean france paris le du des les pierre\n",
      "131.186458528\t party election minister council elected elections political president cultivators votes\n",
      "130.048723683\t river lake mountain island creek water park dam forest region\n",
      "122.699321017\t species mm genus grey brown dark described pale costa gelechiidae\n",
      "101.722805798\t ship navy ships naval boat hms fleet class vessel submarine\n",
      "97.5347474217\t crambidae loaf restaurant food chef restaurants sprinkled cuisine loaves vietnam\n",
      "96.8454943672\t align nepal text till color kathmandu style lviv btecs nepali\n",
      "86.0208831131\t league club football cup goals fc apps footballer plays match\n",
      "68.9619898498\t historic building register places listed roof street buildings brick story\n",
      "66.6702768952\t album song chart band vocals guitar track songs records label\n",
      "66.4690255821\t journal social research peer reviewed philosophy psychology theory book published\n",
      "62.6995189488\t championships rank women event men medal games round results athlete\n",
      "50.5773286223\t india indian singh tamil pradesh delhi maharashtra malayalam hindi kumar\n",
      "49.9629627168\t basketball league coach football player game tournament conference hockey baseball\n",
      "49.0170372128\t physics research professor science chemistry engineering sciences institute technology laboratory\n",
      "47.2136003971\t films award awards tv actor festival show television directed episode\n",
      "46.9653081447\t swedish sweden norwegian metres hungarian norway stockholm finnish oslo budapest\n",
      "42.4111117125\t discal radio tv fm channel station suffusion television broadcasting news\n",
      "42.3999934196\t army military regiment air infantry force brigade battalion officer aircraft\n",
      "37.3635575175\t hipped mars crater earth orbit space observatory satellite star discovery\n",
      "33.5063042343\t tornus protein cell virus replication gene cells host dna genus\n",
      "33.3076936454\t fuscous ochreous hindwings story plot man you suffused love novel\n",
      "30.7399059832\t cricket matches match wickets cricketer class runs batsman innings scored\n",
      "29.635423243\t italian di italy il rome giovanni della giuseppe francesco milan\n",
      "28.5960254371\t game games gameplay video player manga comic comics players playstation\n",
      "27.7714605331\t draw doubles tennis tournament semifinals singles atp malaysia open tour\n",
      "27.5115044117\t la spanish el del mexico mexican juan san\n",
      "25.9191521108\t greek greece gr athens xxx tracklist thessaloniki hellenic larissa crete\n",
      "25.6613215804\t published book books editor magazine poetry writer professor author novel\n",
      "24.3842071891\t wisconsin republican illinois carolina texas senate district president representatives law\n",
      "24.0515204966\t romanian romania bucharest kazakhstan panchayat icelandic thon iceland speedway turkmenistan\n",
      "22.1317072511\t race racing tour stage car ret cycling championship cyclist road\n",
      "19.8826239705\t count prince duke marseille princess qucha beograd married aix daughter\n",
      "17.5742212385\t workers village marginal district census population labourers demographics municipality total\n",
      "17.3361987174\t brazilian brazil chess rio paulo da janeiro silva santos\n",
      "16.5884895325\t china chinese hong kong li wang taiwan chen liu zhang\n",
      "15.6568616033\t tehsil bangkok dir thai shri pakhtunkhwa language sindh wong pakistan\n",
      "15.2202890068\t station railway airport train route road highway rail bus junction\n",
      "13.8293449283\t football ap ncaa nfl yards freshman sophomore draft bowl defensive\n",
      "13.4933964014\t art museum gallery painting painter exhibition artist paintings arts artists\n",
      "13.1035604477\t dns dnq durango redoubt whorls lanceolate saitama gunma sinaloa\n",
      "11.0697373003\t florets mathematics sunflower mathematical theory abstracting indexed indexing graph mathematician\n",
      "9.84170007706\t wingspan blackish dots plical markings dot patch edged posteriorly paler\n",
      "9.64365082979\t king castle empire ottoman battle son prince emperor abbey kingdom\n",
      "9.20475190878\t zealand queensland brisbane rugby auckland rebounds australia campeonato wellington blacks\n",
      "8.8858525753\t undrafted cusco peru argentine ecuador venezuelan vida venezuela caracas\n",
      "8.6602537632\t george cast david michael robert james directed paul william richard\n",
      "8.39239177108\t polish van dutch poland netherlands warsaw amsterdam swimmers jan hordaland\n",
      "7.62138462067\t london wales sir scottish william scotland married son royal educated\n",
      "7.60946731269\t sri temple lanka shiva tamil hindu lankan india colombo devi\n",
      "6.12771067023\t nigeria nigerian africa african uganda ghana kenya congo algerian tanzania\n",
      "6.02509987354\t czech prague slovak gma hc helsinki finnish slovakia finland tercera\n",
      "5.39215323329\t listings township community unincorporated arkansas census elementary ultralight california\n",
      "4.9130756706\t armenian win azerbaijan vidhan fight boxing armenia heavyweight baku submission\n",
      "4.2955686897\t sternites breuning gay lgbt lesbian transgender sex yes soman pride\n",
      "4.21697604656\t orchestra opera piano symphony composer violin conductor ballet quercus concerto\n",
      "4.15272410214\t korean kim korea colspan jung lee jin min soo hyun\n",
      "3.92968960106\t mine mining subsp coal mines ore sm rwanda copper apos\n",
      "3.48163771629\t whitish brownish greyish melaleuca costal inches acid resin mandible saliva\n",
      "2.81236514449\t stakes erigeron race horse ky racing chithra colt lengths jockey\n",
      "2.5422102809\t canadian canada ontario newfoundland alberta scotia toronto nova ottawa edmonton\n",
      "2.41810981929\t japanese japan literates tokyo judo prefecture anime palghar osaka mersin\n",
      "2.01582376659\t stigmata repechage svg tracklisting preliminaries flag beatified ogol whitish\n",
      "1.92225177586\t dnf uci fw wine honda usm nc winery yamaha\n",
      "1.75315415859\t russian ukrainian ukraine russia moscow soviet hispanicized sakha maccabi oblast\n",
      "1.70993900299\t megachile hindwings ireland irish dublin townlands barony gaelic cork indistinct\n",
      "1.36254662275\t indonesia yesudas shankar nair janaki indonesian lithuanian mohan singers composed\n",
      "1.35942983627\t ufc mixtape maine bellator everest mma oran rihanna ascent gazetteer\n",
      "1.31164944172\t kbs townland mbc sbs portuguese portugal righthanded roubaix thammarat lisbon\n",
      "1.19897735119\t al iran iranian islamic arab syria egypt mosque egyptian syrian\n",
      "1.19495813549\t mf df fa town rovers manchester storeys sheffield athletic lb\n",
      "0.994446590543\t costal dq whitish cloudy samsung startups startup pinkish nokia swe\n",
      "0.845528721809\t serbian albanian bulgarian serbia belgrade albania bulgaria macedonia slovenian kosovo\n",
      "0.766347423196\t fiba croatian bosnia herzegovina zagreb estonian croatia belgian latvian sarajevo\n",
      "0.537463128567\t isil mohamed subdistrict ahmed iraqi crowdfunding qa fayetteville rv pinball\n",
      "0.353782981634\t herbarium ell var subgenus goulburn tasmania tasmanian gators kaur canberra\n",
      "0.21770016849\t church bishop catholic parish diocese cathedral chapel saint priest ordained\n",
      "0.211370125413\t pakistan khan pakistani kashmir karachi lahore afghanistan ali shah jammu\n",
      "0.207887679338\t oregon pref sashes saas vmi saskatoon narendra tiwari mendoza portland\n",
      "0.183339700103\t hurdles heats metres aquatics entrants steeplechase hampson ricardo eduardo\n",
      "0.0\t adelaide alaska barn cdp smokehouse uav fpv kristiansand torrens arctiidae\n",
      "0.0\t amore libero saginaw bouchet daria lethbridge aravindan ugo guida millipedes\n",
      "0.0\t forewings moth dorsum tortricidae apical antemedial obliquely coxae maxillary palps\n",
      "0.0\t bangladesh kannada bangalore dhaka bangladeshi karnataka cheil chennai padma sahitya\n",
      "0.0\t rubus angulated scopus cdu rhine akron papillae ibadan spd palatinate\n",
      "0.0\t meyrick hurling pts pld backstroke telenovela yoon iihf choi yoo\n",
      "0.0\t gk vfl tba hee melbourne geelong eun prem victorian kyung\n",
      "0.0\t paralympics cornice raghu curacies bevan leicestershire ukip townsville furness wakefield\n",
      "0.0\t px hawaii poker bitcoin wraparound casino shreveport venu rebranded hawaiian\n",
      "0.0\t termen malta selo une maltese redshirt je dans\n",
      "0.0\t discoidal zec pitts priya sheeran eintracht oberliga jerk zimbabwe lemmon\n",
      "0.0\t tbd ethiopian mississauga krishnan kandy ethiopia nollywood addis byu cif\n",
      "0.0\t sabha janata lok lucknow patel malawi dt bhat allahabad hebei\n",
      "0.0\t babu kapoor sewanee hum puno hai yu zhao rani zee\n",
      "0.0\t pb sb andhra mandal reddy gf telangana pradesh srinivas gd\n"
     ]
    }
   ],
   "source": [
    "print \"most common topics (score & labels)\"\n",
    "for e in score_per_topic_sorted:\n",
    "    i = e[0]\n",
    "    Y.append(e[1])\n",
    "    X.append(topics_labels[i])\n",
    "    print str(e[1]) + \"\\t\"+ str(topics_labels[i])"
   ]
  },
  {
   "cell_type": "markdown",
   "metadata": {},
   "source": [
    "# similarity"
   ]
  },
  {
   "cell_type": "code",
   "execution_count": 160,
   "metadata": {
    "collapsed": false,
    "scrolled": true
   },
   "outputs": [
    {
     "name": "stdout",
     "output_type": "stream",
     "text": [
      "all_source_texts/13_pd_spec_fortigel_b-en-ru-T.mxliff\n",
      "all_source_texts/140702_swatch_SOM_A4_preview-en-fr-T.mxliff\n",
      "all_source_texts/1410-0002 DEEP SEA MONSTER Press Outs-en-fr_ca-CR.mxliff\n",
      "all_source_texts/1410-0002 FAST FLESH EATERS pressouts-en-fr_ca-CR.mxliff\n",
      "all_source_texts/1410-0002 fearsome fighters Press Outs-en-fr_ca-CR.mxliff\n",
      "all_source_texts/1410-0002 Giants of the Jurassic pressouts-en-fr_ca-CR.mxliff\n",
      "all_source_texts/1410-0002 Killers of Cretaceous pressouts-en-fr_ca-CR.mxliff\n",
      "all_source_texts/1410-0002 mega meateater pressouts -en-fr_ca-CR.mxliff\n",
      "all_source_texts/1814_Imbox Imagebrochure_REN 2_2015-8-20-en-de-T.mxliff\n",
      "all_source_texts/1844 0010 S&A MY BIG BOOK OF STICKER FUN COVER-en-fr_ca-CR.mxliff\n",
      "all_source_texts/1844 0010 S&A MY BIG BOOK OF STICKER FUN INTERIORS 1-8-en-fr_ca-CR.mxliff\n",
      "all_source_texts/1844 0010 S&A MY BIG BOOK OF STICKER FUN INTERIORS 25-40-en-fr_ca-CR.mxliff\n",
      "all_source_texts/1844 0010 S&A MY BIG BOOK OF STICKER FUN INTERIORS 41-48-en-fr_ca-CR.mxliff\n",
      "all_source_texts/1844 0010 S&A MY BIG BOOK OF STICKER FUN INTERIORS 49-60-en-fr_ca-CR.mxliff\n",
      "all_source_texts/1844 0010 S&A MY BIG BOOK OF STICKER FUN INTERIORS 61-72-en-fr_ca-CR.mxliff\n",
      "all_source_texts/1844 0010 S&A MY BIG BOOK OF STICKER FUN INTERIORS 73-84-en-fr_ca-CR.mxliff\n",
      "all_source_texts/1844 0010 S&A MY BIG BOOK OF STICKER FUN INTERIORS 85-96-en-fr_ca-CR.mxliff\n",
      "all_source_texts/1844 0010 S&A MY BIG BOOK OF STICKER FUN INTERIORS 9-24-en-fr_ca-CR.mxliff\n",
      "all_source_texts/1844 0010 S&A MY BIG BOOK OF STICKER FUN PRESSOUT_ STICKERS SECTION 5-en-fr_ca-CR.mxliff\n",
      "all_source_texts/1844 0010 S&A MY BIG BOOK OF STICKER FUN PRESSOUT_STICKERS SECTION 1-en-fr_ca-CR.mxliff\n",
      "all_source_texts/1844 0010 S&A MY BIG BOOK OF STICKER FUN PRESSOUT_STICKERS SECTION 3-en-fr_ca-CR.mxliff\n",
      "all_source_texts/1844 0010 S&A MY BIG BOOK OF STICKER FUN PRESSOUT_STICKERS SECTION 4-en-fr_ca-CR.mxliff\n",
      "all_source_texts/1844 0010 S&A MY BIG BOOK OF STICKER FUN PRESSOUT_STICKERS SECTION 6-en-fr_ca-CR.mxliff\n",
      "all_source_texts/1844 0010 S&A MY BIG BOOK OF STICKER FUN PRESSOU_ STICKERS SECTION 2-en-fr_ca-CR.mxliff\n",
      "all_source_texts/1844-0001 Mega Giant S&A Dinosaurs UK AMENDED-en-fr_ca-CR.mxliff\n",
      "all_source_texts/1844-0001 MEGA S&A Dinosaurs PLC V4-en-fr_ca-CR.mxliff\n",
      "all_source_texts/1920-0001 Fairy Interiors-en-fr_ca-CR.mxliff\n",
      "all_source_texts/1920-0001 Fairy PLC-en-fr_ca-CR.mxliff\n",
      "all_source_texts/1920-0002 Princess Interiors-en-fr_ca-CR.mxliff\n",
      "all_source_texts/1920-0002 Princess PLC-en-fr_ca-CR.mxliff\n",
      "all_source_texts/198_GB_ProduktBrochure_VacuumCoater-en-ru-T.mxliff\n",
      "all_source_texts/2.1 fcc_1200m_kazakhstan-tengizchevroil_dl_intl_2-2_G_EN-en-de-T.mxliff\n",
      "all_source_texts/2.2.1 fcc_1200m_kazakhstan-tengizchevroil_dl_intl_2-2_G_EN-en-de-T.mxliff\n",
      "all_source_texts/2.2.2 fcc_1200m_kazakhstan-tengizchevroil_dl_intl_2-2_G_EN-en-de-T.mxliff\n",
      "all_source_texts/2014-12-22 translations_enGB dacadoo platform-en-ko-T.mxliff\n",
      "all_source_texts/215_GB_produktbrochure_Hammermill-en-ru-T.mxliff\n",
      "all_source_texts/217_GB_produktbrochure_Pellet mill-en-ru-T.mxliff\n",
      "all_source_texts/245 GB_ImageBrochure_BioWaste_2014 (1)-en-ru-T.mxliff\n",
      "all_source_texts/257_GB_produktbrochure_PaddleMixer-en-ru-T.mxliff\n",
      "all_source_texts/258_GB_produktbrochure_extruder_pet_aqua-en-ru-T.mxliff\n",
      "all_source_texts/261_GB_produktbrochure_Paladin pellet mills_high-en-ru-T.mxliff\n",
      "all_source_texts/262_GB_produktbrochure_Dies and rools_press (1)-en-ru-T.mxliff\n",
      "all_source_texts/271_GB_ProduktBrochure_MicroFluidSystem-en-ru-T.mxliff\n",
      "all_source_texts/287_GB_produktbrochure_FeedExpander-en-ru-T.mxliff\n",
      "all_source_texts/290 GB ImageBrochure_Animal_2014-en-ru-T.mxliff\n",
      "all_source_texts/291 GB_ImageBrochure_Petfood_2014-en-ru-T.mxliff\n",
      "all_source_texts/292 GB_ImageBrochure_Aqua_2014-en-ru-T.mxliff\n",
      "all_source_texts/293_GB_Combi-zone dryer-en-ru-T.mxliff\n",
      "all_source_texts/3 Minute Beauty Intro Copy_Translation Template_deadline 20. april-en-da-T.mxliff\n",
      "all_source_texts/320_GB_Plant_and_process_controls_ny-en-de-T.mxliff\n",
      "all_source_texts/5 tips fra planteeksperten_en-GB-en-it-T.mxliff\n",
      "all_source_texts/591_GB_produktbrochure_Filter-en-ru-T.mxliff\n",
      "all_source_texts/900 GB_Company Profile_2015-en-ru-T.mxliff\n",
      "all_source_texts/Allg. Hinweise_EN-en-fa-T.mxliff\n",
      "all_source_texts/ANR script_Final_Translation Template-deadline 20. april-en-da-T.mxliff\n",
      "all_source_texts/aps_SRM_Ariba_Adapter_Webinar_20150827_EN_�bersetzer-en-de-T.mxliff\n",
      "all_source_texts/babyshop texter vecka 33-2-en-da-T.mxliff\n",
      "all_source_texts/babyshop texter vecka 33-2-en-fi-T.mxliff\n",
      "all_source_texts/babyshop texter vecka 33-3 (162-327)-en-da-T.mxliff\n",
      "all_source_texts/babyshop texter vecka 33-3 (162-327)-en-fi-T.mxliff\n",
      "all_source_texts/babyshop texter vecka 33-4 (328-353)-en-da-T.mxliff\n",
      "all_source_texts/babyshop texter vecka 33-4 (328-353)-en-fi-T.mxliff\n",
      "all_source_texts/babyshop texter vecka 33-5 (156-162)-en-da-T.mxliff\n",
      "all_source_texts/babyshop texter vecka 33-5 (156-162)-en-fi-T.mxliff\n",
      "all_source_texts/babyshop texter vecka 33-en-da-T.mxliff\n",
      "all_source_texts/babyshop texter vecka 33-en-fi-T.mxliff\n",
      "all_source_texts/Best of the Best Weekly Tips v4-en-da-T.mxliff\n",
      "all_source_texts/Beth�s Blog 1 v3-en-da-T.mxliff\n",
      "all_source_texts/Beth�s Blog 2 v1-en-da-T.mxliff\n",
      "all_source_texts/Beth�s Blog 3 v3-en-da-T.mxliff\n",
      "all_source_texts/BroschA4en_2015_SPEKON_web-en-ar-T.mxliff\n",
      "all_source_texts/BSO Teil B_Zwerchallee_EN-en-fa-T.mxliff\n",
      "all_source_texts/BSO_B_EBS_EN-en-fa-T.mxliff\n",
      "all_source_texts/bso_b_Ludwigsburger_EN-en-fa-T.mxliff\n",
      "all_source_texts/BSO_B_Wormser_EN-en-fa-T.mxliff\n",
      "all_source_texts/BSO_B_WQS_EN-en-fa-T.mxliff\n",
      "all_source_texts/Centax Telecom agreement 1 300915-en-de-T.mxliff\n",
      "all_source_texts/ContentMatrix_Final Translation Template_deadline 13. march-en-da-T.mxliff\n",
      "all_source_texts/ContentMatrix_Final Translation Template_SWEDISH-en-da-T.mxliff\n",
      "all_source_texts/content_no-en-no-T.mxliff\n",
      "all_source_texts/CSC - UTMB Ispo Press Conference Press Release 090215 (1)-en-de-T.mxliff\n",
      "all_source_texts/Customer needs analysis with ratings_Final[1]-en-fr-T.mxliff\n",
      "all_source_texts/da-en-da-T.mxliff\n",
      "all_source_texts/De 12 varianter - blyanten_en-GB-en-it-T.mxliff\n",
      "all_source_texts/DOC010915-01092015124758-en-de-T.mxliff\n",
      "all_source_texts/EL GMTC_Final Translation Template (2)_deadline 20. april-en-da-T.mxliff\n",
      "all_source_texts/ELX Weekly Wellness Tips v3-en-da-T.mxliff\n",
      "all_source_texts/ENG - Basic Modules_Eating Habits_V59-MH-en-ko-T.mxliff\n",
      "all_source_texts/ENG - Basic Modules_Food Intake-Beverages_QNA_V59-MH-en-ko-T.mxliff\n",
      "all_source_texts/ENG - Basic Modules_Food Intake_QNA_V59-MH-en-ko-T.mxliff\n",
      "all_source_texts/ENG - Triage-Questions_V59-MH-en-ko-T.mxliff\n",
      "all_source_texts/ENG - Ziele_V59-MH-en-ko-T.mxliff\n",
      "all_source_texts/ENG -Other_Nutrition_TranslationsV59-MH-en-ko-T.mxliff\n",
      "all_source_texts/ERS 51 - User Manual - 1.1-en-de-T.mxliff\n",
      "all_source_texts/eula-en-de-T.mxliff\n",
      "all_source_texts/External microsite_Final[1][2]-en-fr-T.mxliff\n",
      "all_source_texts/Hausordnung_EN-en-fa-T.mxliff\n",
      "all_source_texts/Hvad er mikrogr�nt_en-GB-en-it-T.mxliff\n",
      "all_source_texts/HYP IPI _en-en-de-T.mxliff\n",
      "all_source_texts/ilv_presentation_v13.7_141111_ey_ds-2-en-zh-T.mxliff\n",
      "all_source_texts/Inspiration - tiny gardens_DA_en-GB-en-it-T.mxliff\n",
      "all_source_texts/joined-P2069-J1-2-3-4-en-it-T.mxliff\n",
      "all_source_texts/license_agreement_nexus-en-fr-T.mxliff\n",
      "all_source_texts/Om Sprout_en-GB-en-it-T.mxliff\n",
      "all_source_texts/Personlig s�tning_en-GB-en-it-T.mxliff\n",
      "all_source_texts/Plant dit papir_en-GB-en-it-T.mxliff\n",
      "all_source_texts/Presse_en-GB-en-it-T.mxliff\n",
      "all_source_texts/Product IQ Quizzes v2-en-da-T.mxliff\n",
      "all_source_texts/Q & A_en-GB-en-it-T.mxliff\n",
      "all_source_texts/quality_dossier_fortigel_b_rev_6_2014 (1)-en-ru-T.mxliff\n",
      "all_source_texts/Re-Nutriv Script_Final Translation Template_deadline 20. april-en-da-T.mxliff\n",
      "all_source_texts/Resort Activities-en-fr-T.mxliff\n",
      "all_source_texts/russian_name.mxliff\n",
      "all_source_texts/Salesfolder Revlonissimo-en-de-T.mxliff\n",
      "all_source_texts/service agreement_draft_for_translation-en-de-T.mxliff\n",
      "all_source_texts/Sprout blyanten_en-GB-en-it-T.mxliff\n",
      "all_source_texts/Sprouts v�rdier_en-GB-en-it-T.mxliff\n",
      "all_source_texts/Sprout_PR_faktaark_en-GB-en-it-T.mxliff\n",
      "all_source_texts/Sprout_PR_funfacts_en-GB-en-it-T.mxliff\n",
      "all_source_texts/Sprout_PR_interview_en-GB-en-it-T.mxliff\n",
      "all_source_texts/Sprout_PR_tinygardens_en-GB-en-it-T.mxliff\n",
      "all_source_texts/S�DAN G�R DU _en-GB-en-it-T.mxliff\n",
      "all_source_texts/Team Sprout_en-GB-en-it-T.mxliff\n",
      "all_source_texts/teksmobile.se_sv-SE_pwd43739_1418743604661-en-sv-T.mxliff\n",
      "all_source_texts/Text variables for e-mail report_Final[1]-en-fr-T.mxliff\n",
      "all_source_texts/Text variables for on-screen feedback_Final[1]-en-fr-T.mxliff\n",
      "all_source_texts/Text1_1070Woerter-en-de-T.mxliff\n",
      "all_source_texts/tiny gardens by Sprout_en-GB-en-it-T.mxliff\n",
      "all_source_texts/TS-2S iv-EU 3 FEB 2015 WORD-en-nl-T.mxliff\n",
      "all_source_texts/Turkish_Basketball_Clubs_Evaluationprogramme15-16_Repucom_150612_�bersetzten-en-tr-T.mxliff\n",
      "all_source_texts/TV-#124290-v1-Vehicle_Rental_Agreement__-_template clean_redl. UvH-en-de-T.mxliff\n",
      "all_source_texts/Underbilag 3 3 Leverand�rens generelle l�sningsbeskrivelse - BI-en-da-T.mxliff\n",
      "all_source_texts/Underbilag 3 3 Leverand�rens generelle l�sningsbeskrivelse - BU-en-da-T.mxliff\n",
      "all_source_texts/Underbilag 3 3 Leverand�rens generelle l�sningsbeskrivelse - IN-en-da-T.mxliff\n",
      "all_source_texts/Underbilag 3 3 Leverand�rens generelle l�sningsbeskrivelse - OP-en-da-T.mxliff\n",
      "all_source_texts/Underbilag 3 3 Leverand�rens generelle l�sningsbeskrivelse - PS-en-da-T.mxliff\n",
      "all_source_texts/Underbilag 3 3 Leverand�rens generelle l�sningsbeskrivelse - RE-en-da-T.mxliff\n",
      "all_source_texts/Underbilag 3 3 Leverand�rens generelle l�sningsbeskrivelse - TK-en-da-T.mxliff\n",
      "all_source_texts/Vecka 32-1 (29-80)-en-nb_no-T.mxliff\n",
      "all_source_texts/Vecka 32-2 (81-135)-en-nb_no-T.mxliff\n",
      "all_source_texts/Vecka 32-3 (136-182)-en-nb_no-T.mxliff\n",
      "all_source_texts/Vecka 32-4 (218-329)-en-nb_no-T.mxliff\n",
      "all_source_texts/Vecka 32-5 (362-423)-en-nb_no-T.mxliff\n",
      "all_source_texts/Vecka 32-6 (426-479)-en-nb_no-T.mxliff\n",
      "all_source_texts/Vecka 32-7 (481-497)-en-nb_no-T.mxliff\n",
      "all_source_texts/Vecka 39 - 1 (5-50)-en-nb_no-T.mxliff\n",
      "all_source_texts/Vecka 39 - 2 (51-128)-en-nb_no-T.mxliff\n",
      "all_source_texts/Vecka 39 - 3 (130-190)-en-nb_no-T.mxliff\n",
      "all_source_texts/Vecka 39 - 4 (192-243)-en-nb_no-T.mxliff\n",
      "all_source_texts/Vecka 39 - 5 (246-304)-en-nb_no-T.mxliff\n",
      "all_source_texts/Vecka 39 - 6 (308-357)-en-nb_no-T.mxliff\n",
      "all_source_texts/Vecka 39 - 7 (361-410)-en-nb_no-T.mxliff\n",
      "all_source_texts/Vecka 39 - 8 (414-442)-en-nb_no-T.mxliff\n",
      "all_source_texts/Vejledning pelvifine-en-da-T.mxliff\n",
      "all_source_texts/Vejledning til tiny gardens_en-GB-en-it-T.mxliff\n",
      "all_source_texts/Vision & Mission2_en-GB-en-it-T.mxliff\n",
      "all_source_texts/Vores ansvar_en-GB-en-it-T.mxliff\n",
      "all_source_texts/Welcome Video Script_Final Translation Template_deadline 13. march-en-da-T.mxliff\n",
      "all_source_texts/_WL-Contact_Technical_And_Functional_Proposal-1-en-de-T.mxliff\n",
      " ------------------------------- \n",
      "[<1x100 sparse matrix of type '<type 'numpy.float32'>'\n",
      "\twith 11 stored elements in Compressed Sparse Row format>]\n",
      "[<1x100 sparse matrix of type '<type 'numpy.float32'>'\n",
      "\twith 21 stored elements in Compressed Sparse Row format>]\n",
      "[<1x100 sparse matrix of type '<type 'numpy.float32'>'\n",
      "\twith 11 stored elements in Compressed Sparse Row format>]\n",
      "[<1x100 sparse matrix of type '<type 'numpy.float32'>'\n",
      "\twith 18 stored elements in Compressed Sparse Row format>]\n",
      "[<1x100 sparse matrix of type '<type 'numpy.float32'>'\n",
      "\twith 2 stored elements in Compressed Sparse Row format>]\n",
      "[<1x100 sparse matrix of type '<type 'numpy.float32'>'\n",
      "\twith 21 stored elements in Compressed Sparse Row format>]\n",
      "[<1x100 sparse matrix of type '<type 'numpy.float32'>'\n",
      "\twith 18 stored elements in Compressed Sparse Row format>]\n",
      "[<1x100 sparse matrix of type '<type 'numpy.float32'>'\n",
      "\twith 2 stored elements in Compressed Sparse Row format>]\n",
      "[<1x100 sparse matrix of type '<type 'numpy.float32'>'\n",
      "\twith 25 stored elements in Compressed Sparse Row format>]\n",
      "[<1x100 sparse matrix of type '<type 'numpy.float32'>'\n",
      "\twith 16 stored elements in Compressed Sparse Row format>]\n",
      "[<1x100 sparse matrix of type '<type 'numpy.float32'>'\n",
      "\twith 6 stored elements in Compressed Sparse Row format>]\n",
      "[<1x100 sparse matrix of type '<type 'numpy.float32'>'\n",
      "\twith 10 stored elements in Compressed Sparse Row format>]\n",
      "[<1x100 sparse matrix of type '<type 'numpy.float32'>'\n",
      "\twith 11 stored elements in Compressed Sparse Row format>]\n",
      "[<1x100 sparse matrix of type '<type 'numpy.float32'>'\n",
      "\twith 18 stored elements in Compressed Sparse Row format>]\n",
      "[<1x100 sparse matrix of type '<type 'numpy.float32'>'\n",
      "\twith 36 stored elements in Compressed Sparse Row format>]\n",
      "[<1x100 sparse matrix of type '<type 'numpy.float32'>'\n",
      "\twith 13 stored elements in Compressed Sparse Row format>]\n",
      "[<1x100 sparse matrix of type '<type 'numpy.float32'>'\n",
      "\twith 13 stored elements in Compressed Sparse Row format>]\n",
      "[<1x100 sparse matrix of type '<type 'numpy.float32'>'\n",
      "\twith 33 stored elements in Compressed Sparse Row format>]\n",
      "[<1x100 sparse matrix of type '<type 'numpy.float32'>'\n",
      "\twith 5 stored elements in Compressed Sparse Row format>]\n",
      "[<1x100 sparse matrix of type '<type 'numpy.float32'>'\n",
      "\twith 12 stored elements in Compressed Sparse Row format>]\n",
      "[<1x100 sparse matrix of type '<type 'numpy.float32'>'\n",
      "\twith 2 stored elements in Compressed Sparse Row format>]\n",
      "[<1x100 sparse matrix of type '<type 'numpy.float32'>'\n",
      "\twith 14 stored elements in Compressed Sparse Row format>]\n",
      "[<1x100 sparse matrix of type '<type 'numpy.float32'>'\n",
      "\twith 19 stored elements in Compressed Sparse Row format>]\n",
      "[<1x100 sparse matrix of type '<type 'numpy.float32'>'\n",
      "\twith 17 stored elements in Compressed Sparse Row format>]\n",
      "[<1x100 sparse matrix of type '<type 'numpy.float32'>'\n",
      "\twith 15 stored elements in Compressed Sparse Row format>]\n",
      "[<1x100 sparse matrix of type '<type 'numpy.float32'>'\n",
      "\twith 4 stored elements in Compressed Sparse Row format>]\n",
      "[<1x100 sparse matrix of type '<type 'numpy.float32'>'\n",
      "\twith 2 stored elements in Compressed Sparse Row format>]\n",
      "[<1x100 sparse matrix of type '<type 'numpy.float32'>'\n",
      "\twith 5 stored elements in Compressed Sparse Row format>]\n",
      "[<1x100 sparse matrix of type '<type 'numpy.float32'>'\n",
      "\twith 19 stored elements in Compressed Sparse Row format>]\n",
      "[<1x100 sparse matrix of type '<type 'numpy.float32'>'\n",
      "\twith 12 stored elements in Compressed Sparse Row format>]\n",
      "[<1x100 sparse matrix of type '<type 'numpy.float32'>'\n",
      "\twith 19 stored elements in Compressed Sparse Row format>]\n",
      "[<1x100 sparse matrix of type '<type 'numpy.float32'>'\n",
      "\twith 2 stored elements in Compressed Sparse Row format>]\n",
      "[<1x100 sparse matrix of type '<type 'numpy.float32'>'\n",
      "\twith 22 stored elements in Compressed Sparse Row format>]\n",
      "[<1x100 sparse matrix of type '<type 'numpy.float32'>'\n",
      "\twith 18 stored elements in Compressed Sparse Row format>]\n",
      "[<1x100 sparse matrix of type '<type 'numpy.float32'>'\n",
      "\twith 1 stored elements in Compressed Sparse Row format>]\n",
      "[<1x100 sparse matrix of type '<type 'numpy.float32'>'\n",
      "\twith 20 stored elements in Compressed Sparse Row format>]\n",
      "[<1x100 sparse matrix of type '<type 'numpy.float32'>'\n",
      "\twith 5 stored elements in Compressed Sparse Row format>]\n",
      "[<1x100 sparse matrix of type '<type 'numpy.float32'>'\n",
      "\twith 19 stored elements in Compressed Sparse Row format>]\n",
      "[<1x100 sparse matrix of type '<type 'numpy.float32'>'\n",
      "\twith 8 stored elements in Compressed Sparse Row format>]\n",
      "[<1x100 sparse matrix of type '<type 'numpy.float32'>'\n",
      "\twith 14 stored elements in Compressed Sparse Row format>]\n",
      "[<1x100 sparse matrix of type '<type 'numpy.float32'>'\n",
      "\twith 3 stored elements in Compressed Sparse Row format>]\n",
      "[<1x100 sparse matrix of type '<type 'numpy.float32'>'\n",
      "\twith 16 stored elements in Compressed Sparse Row format>]\n",
      "[<1x100 sparse matrix of type '<type 'numpy.float32'>'\n",
      "\twith 2 stored elements in Compressed Sparse Row format>]\n",
      "[<1x100 sparse matrix of type '<type 'numpy.float32'>'\n",
      "\twith 2 stored elements in Compressed Sparse Row format>]\n",
      "[<1x100 sparse matrix of type '<type 'numpy.float32'>'\n",
      "\twith 15 stored elements in Compressed Sparse Row format>]\n",
      "[<1x100 sparse matrix of type '<type 'numpy.float32'>'\n",
      "\twith 17 stored elements in Compressed Sparse Row format>]\n",
      "[<1x100 sparse matrix of type '<type 'numpy.float32'>'\n",
      "\twith 19 stored elements in Compressed Sparse Row format>]\n",
      "[<1x100 sparse matrix of type '<type 'numpy.float32'>'\n",
      "\twith 11 stored elements in Compressed Sparse Row format>]\n",
      "[<1x100 sparse matrix of type '<type 'numpy.float32'>'\n",
      "\twith 20 stored elements in Compressed Sparse Row format>]\n",
      "[<1x100 sparse matrix of type '<type 'numpy.float32'>'\n",
      "\twith 12 stored elements in Compressed Sparse Row format>]\n",
      "[<1x100 sparse matrix of type '<type 'numpy.float32'>'\n",
      "\twith 13 stored elements in Compressed Sparse Row format>]\n",
      "[<1x100 sparse matrix of type '<type 'numpy.float32'>'\n",
      "\twith 13 stored elements in Compressed Sparse Row format>]\n",
      "[<1x100 sparse matrix of type '<type 'numpy.float32'>'\n",
      "\twith 31 stored elements in Compressed Sparse Row format>]\n",
      "[<1x100 sparse matrix of type '<type 'numpy.float32'>'\n",
      "\twith 4 stored elements in Compressed Sparse Row format>]\n",
      "[<1x100 sparse matrix of type '<type 'numpy.float32'>'\n",
      "\twith 12 stored elements in Compressed Sparse Row format>]\n",
      "[<1x100 sparse matrix of type '<type 'numpy.float32'>'\n",
      "\twith 20 stored elements in Compressed Sparse Row format>]\n",
      "[<1x100 sparse matrix of type '<type 'numpy.float32'>'\n",
      "\twith 7 stored elements in Compressed Sparse Row format>]\n",
      "[<1x100 sparse matrix of type '<type 'numpy.float32'>'\n",
      "\twith 22 stored elements in Compressed Sparse Row format>]\n",
      "[<1x100 sparse matrix of type '<type 'numpy.float32'>'\n",
      "\twith 1 stored elements in Compressed Sparse Row format>]\n",
      "[<1x100 sparse matrix of type '<type 'numpy.float32'>'\n",
      "\twith 12 stored elements in Compressed Sparse Row format>]\n",
      "[<1x100 sparse matrix of type '<type 'numpy.float32'>'\n",
      "\twith 3 stored elements in Compressed Sparse Row format>]\n",
      "[<1x100 sparse matrix of type '<type 'numpy.float32'>'\n",
      "\twith 21 stored elements in Compressed Sparse Row format>]\n",
      "[<1x100 sparse matrix of type '<type 'numpy.float32'>'\n",
      "\twith 16 stored elements in Compressed Sparse Row format>]\n",
      "[<1x100 sparse matrix of type '<type 'numpy.float32'>'\n",
      "\twith 2 stored elements in Compressed Sparse Row format>]\n",
      "[<1x100 sparse matrix of type '<type 'numpy.float32'>'\n",
      "\twith 52 stored elements in Compressed Sparse Row format>]\n",
      "[<1x100 sparse matrix of type '<type 'numpy.float32'>'\n",
      "\twith 20 stored elements in Compressed Sparse Row format>]\n",
      "[<1x100 sparse matrix of type '<type 'numpy.float32'>'\n",
      "\twith 16 stored elements in Compressed Sparse Row format>]\n",
      "[<1x100 sparse matrix of type '<type 'numpy.float32'>'\n",
      "\twith 15 stored elements in Compressed Sparse Row format>]\n",
      "[<1x100 sparse matrix of type '<type 'numpy.float32'>'\n",
      "\twith 17 stored elements in Compressed Sparse Row format>]\n",
      "[<1x100 sparse matrix of type '<type 'numpy.float32'>'\n",
      "\twith 19 stored elements in Compressed Sparse Row format>]\n",
      "[<1x100 sparse matrix of type '<type 'numpy.float32'>'\n",
      "\twith 25 stored elements in Compressed Sparse Row format>]\n",
      "[<1x100 sparse matrix of type '<type 'numpy.float32'>'\n",
      "\twith 27 stored elements in Compressed Sparse Row format>]\n",
      "[<1x100 sparse matrix of type '<type 'numpy.float32'>'\n",
      "\twith 18 stored elements in Compressed Sparse Row format>]\n",
      "[<1x100 sparse matrix of type '<type 'numpy.float32'>'\n",
      "\twith 29 stored elements in Compressed Sparse Row format>]\n",
      "[<1x100 sparse matrix of type '<type 'numpy.float32'>'\n",
      "\twith 15 stored elements in Compressed Sparse Row format>]\n",
      "[<1x100 sparse matrix of type '<type 'numpy.float32'>'\n",
      "\twith 2 stored elements in Compressed Sparse Row format>]\n",
      "[<1x100 sparse matrix of type '<type 'numpy.float32'>'\n",
      "\twith 20 stored elements in Compressed Sparse Row format>]\n",
      "[<1x100 sparse matrix of type '<type 'numpy.float32'>'\n",
      "\twith 8 stored elements in Compressed Sparse Row format>]\n",
      "[<1x100 sparse matrix of type '<type 'numpy.float32'>'\n",
      "\twith 1 stored elements in Compressed Sparse Row format>]\n",
      "[<1x100 sparse matrix of type '<type 'numpy.float32'>'\n",
      "\twith 19 stored elements in Compressed Sparse Row format>]\n",
      "[<1x100 sparse matrix of type '<type 'numpy.float32'>'\n",
      "\twith 16 stored elements in Compressed Sparse Row format>]\n",
      "[<1x100 sparse matrix of type '<type 'numpy.float32'>'\n",
      "\twith 18 stored elements in Compressed Sparse Row format>]\n",
      "[<1x100 sparse matrix of type '<type 'numpy.float32'>'\n",
      "\twith 6 stored elements in Compressed Sparse Row format>]\n",
      "[<1x100 sparse matrix of type '<type 'numpy.float32'>'\n",
      "\twith 29 stored elements in Compressed Sparse Row format>]\n",
      "[<1x100 sparse matrix of type '<type 'numpy.float32'>'\n",
      "\twith 19 stored elements in Compressed Sparse Row format>]\n",
      "[<1x100 sparse matrix of type '<type 'numpy.float32'>'\n",
      "\twith 6 stored elements in Compressed Sparse Row format>]\n",
      "[<1x100 sparse matrix of type '<type 'numpy.float32'>'\n",
      "\twith 22 stored elements in Compressed Sparse Row format>]\n",
      "[<1x100 sparse matrix of type '<type 'numpy.float32'>'\n",
      "\twith 4 stored elements in Compressed Sparse Row format>]\n",
      "[<1x100 sparse matrix of type '<type 'numpy.float32'>'\n",
      "\twith 6 stored elements in Compressed Sparse Row format>]\n",
      "[<1x100 sparse matrix of type '<type 'numpy.float32'>'\n",
      "\twith 6 stored elements in Compressed Sparse Row format>]\n",
      "[<1x100 sparse matrix of type '<type 'numpy.float32'>'\n",
      "\twith 4 stored elements in Compressed Sparse Row format>]\n",
      "[<1x100 sparse matrix of type '<type 'numpy.float32'>'\n",
      "\twith 19 stored elements in Compressed Sparse Row format>]\n",
      "[<1x100 sparse matrix of type '<type 'numpy.float32'>'\n",
      "\twith 20 stored elements in Compressed Sparse Row format>]\n",
      "[<1x100 sparse matrix of type '<type 'numpy.float32'>'\n",
      "\twith 2 stored elements in Compressed Sparse Row format>]\n",
      "[<1x100 sparse matrix of type '<type 'numpy.float32'>'\n",
      "\twith 18 stored elements in Compressed Sparse Row format>]\n",
      "[<1x100 sparse matrix of type '<type 'numpy.float32'>'\n",
      "\twith 2 stored elements in Compressed Sparse Row format>]\n",
      "[<1x100 sparse matrix of type '<type 'numpy.float32'>'\n",
      "\twith 27 stored elements in Compressed Sparse Row format>]\n",
      "[<1x100 sparse matrix of type '<type 'numpy.float32'>'\n",
      "\twith 2 stored elements in Compressed Sparse Row format>]\n",
      "[<1x100 sparse matrix of type '<type 'numpy.float32'>'\n",
      "\twith 22 stored elements in Compressed Sparse Row format>]\n",
      "[<1x100 sparse matrix of type '<type 'numpy.float32'>'\n",
      "\twith 6 stored elements in Compressed Sparse Row format>]\n",
      "[<1x100 sparse matrix of type '<type 'numpy.float32'>'\n",
      "\twith 20 stored elements in Compressed Sparse Row format>]\n",
      "[<1x100 sparse matrix of type '<type 'numpy.float32'>'\n",
      "\twith 14 stored elements in Compressed Sparse Row format>]\n",
      "[<1x100 sparse matrix of type '<type 'numpy.float32'>'\n",
      "\twith 1 stored elements in Compressed Sparse Row format>]\n",
      "[<1x100 sparse matrix of type '<type 'numpy.float32'>'\n",
      "\twith 6 stored elements in Compressed Sparse Row format>]\n",
      "[<1x100 sparse matrix of type '<type 'numpy.float32'>'\n",
      "\twith 1 stored elements in Compressed Sparse Row format>]\n",
      "[<1x100 sparse matrix of type '<type 'numpy.float32'>'\n",
      "\twith 18 stored elements in Compressed Sparse Row format>]\n",
      "[<1x100 sparse matrix of type '<type 'numpy.float32'>'\n",
      "\twith 18 stored elements in Compressed Sparse Row format>]\n",
      "[<1x100 sparse matrix of type '<type 'numpy.float32'>'\n",
      "\twith 8 stored elements in Compressed Sparse Row format>]\n",
      "[<1x100 sparse matrix of type '<type 'numpy.float32'>'\n",
      "\twith 6 stored elements in Compressed Sparse Row format>]\n",
      "[<1x100 sparse matrix of type '<type 'numpy.float32'>'\n",
      "\twith 4 stored elements in Compressed Sparse Row format>]\n",
      "[<1x100 sparse matrix of type '<type 'numpy.float32'>'\n",
      "\twith 25 stored elements in Compressed Sparse Row format>]\n",
      "[<1x100 sparse matrix of type '<type 'numpy.float32'>'\n",
      "\twith 1 stored elements in Compressed Sparse Row format>]\n",
      "[<1x100 sparse matrix of type '<type 'numpy.float32'>'\n",
      "\twith 2 stored elements in Compressed Sparse Row format>]\n",
      "[<1x100 sparse matrix of type '<type 'numpy.float32'>'\n",
      "\twith 3 stored elements in Compressed Sparse Row format>]\n",
      "[<1x100 sparse matrix of type '<type 'numpy.float32'>'\n",
      "\twith 13 stored elements in Compressed Sparse Row format>]\n",
      "[<1x100 sparse matrix of type '<type 'numpy.float32'>'\n",
      "\twith 16 stored elements in Compressed Sparse Row format>]\n",
      "[<1x100 sparse matrix of type '<type 'numpy.float32'>'\n",
      "\twith 10 stored elements in Compressed Sparse Row format>]\n",
      "[<1x100 sparse matrix of type '<type 'numpy.float32'>'\n",
      "\twith 6 stored elements in Compressed Sparse Row format>]\n",
      "[<1x100 sparse matrix of type '<type 'numpy.float32'>'\n",
      "\twith 5 stored elements in Compressed Sparse Row format>]\n",
      "[<1x100 sparse matrix of type '<type 'numpy.float32'>'\n",
      "\twith 8 stored elements in Compressed Sparse Row format>]\n",
      "[<1x100 sparse matrix of type '<type 'numpy.float32'>'\n",
      "\twith 30 stored elements in Compressed Sparse Row format>]\n",
      "[<1x100 sparse matrix of type '<type 'numpy.float32'>'\n",
      "\twith 15 stored elements in Compressed Sparse Row format>]\n",
      "[<1x100 sparse matrix of type '<type 'numpy.float32'>'\n",
      "\twith 11 stored elements in Compressed Sparse Row format>]\n",
      "[<1x100 sparse matrix of type '<type 'numpy.float32'>'\n",
      "\twith 48 stored elements in Compressed Sparse Row format>]\n",
      "[<1x100 sparse matrix of type '<type 'numpy.float32'>'\n",
      "\twith 3 stored elements in Compressed Sparse Row format>]\n",
      "[<1x100 sparse matrix of type '<type 'numpy.float32'>'\n",
      "\twith 9 stored elements in Compressed Sparse Row format>]\n",
      "[<1x100 sparse matrix of type '<type 'numpy.float32'>'\n",
      "\twith 14 stored elements in Compressed Sparse Row format>]\n",
      "[<1x100 sparse matrix of type '<type 'numpy.float32'>'\n",
      "\twith 30 stored elements in Compressed Sparse Row format>]\n",
      "[<1x100 sparse matrix of type '<type 'numpy.float32'>'\n",
      "\twith 2 stored elements in Compressed Sparse Row format>]\n",
      "[<1x100 sparse matrix of type '<type 'numpy.float32'>'\n",
      "\twith 7 stored elements in Compressed Sparse Row format>]\n",
      "[<1x100 sparse matrix of type '<type 'numpy.float32'>'\n",
      "\twith 4 stored elements in Compressed Sparse Row format>]\n",
      "[<1x100 sparse matrix of type '<type 'numpy.float32'>'\n",
      "\twith 5 stored elements in Compressed Sparse Row format>]\n",
      "[<1x100 sparse matrix of type '<type 'numpy.float32'>'\n",
      "\twith 13 stored elements in Compressed Sparse Row format>]\n",
      "[<1x100 sparse matrix of type '<type 'numpy.float32'>'\n",
      "\twith 19 stored elements in Compressed Sparse Row format>]\n",
      "[<1x100 sparse matrix of type '<type 'numpy.float32'>'\n",
      "\twith 17 stored elements in Compressed Sparse Row format>]\n",
      "[<1x100 sparse matrix of type '<type 'numpy.float32'>'\n",
      "\twith 30 stored elements in Compressed Sparse Row format>]\n",
      "[<1x100 sparse matrix of type '<type 'numpy.float32'>'\n",
      "\twith 13 stored elements in Compressed Sparse Row format>]\n"
     ]
    }
   ],
   "source": [
    "semantic_vectors = dict()\n",
    "for f in filelist:\n",
    "    print f\n",
    "    v = getSemanticVector( f )\n",
    "    if len(v.data):\n",
    "        semantic_vectors[f] = v\n",
    "print \" ------------------------------- \"\n",
    "# test\n",
    "for s in semantic_vectors.values():\n",
    "    print list(s[0,:])"
   ]
  },
  {
   "cell_type": "code",
   "execution_count": 179,
   "metadata": {
    "collapsed": true
   },
   "outputs": [],
   "source": [
    "def norm(v):\n",
    "    s = 0\n",
    "    for d in v.data:\n",
    "        s+= d**2\n",
    "    return sqrt(s)\n",
    "\n",
    "def similarity( a, b):\n",
    "    # cosine similarity\n",
    "    p = (a.dot(b.transpose()) / (norm(a) * norm(b))).data\n",
    "    if len(p):\n",
    "        return p[0]\n",
    "\n",
    "\n",
    "def closestFile( path ):\n",
    "    u = getSemanticVector(path)\n",
    "    similarities = dict()\n",
    "    for s in semantic_vectors:\n",
    "        similarities[s] = similarity(semantic_vectors[s],u)\n",
    "        \n",
    "    k = 1\n",
    "    for i in sorted(similarities.items(), key=lambda x: x[1])[::-1][:10]:\n",
    "        print str(k) + \"  |  \"  + str(i)\n",
    "        k += 1"
   ]
  },
  {
   "cell_type": "code",
   "execution_count": 180,
   "metadata": {
    "collapsed": false
   },
   "outputs": [
    {
     "name": "stdout",
     "output_type": "stream",
     "text": [
      "1  |  ('all_source_texts/ENG - Basic Modules_Eating Habits_V59-MH-en-ko-T.mxliff', 0.99999990964651952)\n",
      "2  |  ('all_source_texts/quality_dossier_fortigel_b_rev_6_2014 (1)-en-ru-T.mxliff', 0.88239966847434059)\n",
      "3  |  ('all_source_texts/Inspiration - tiny gardens_DA_en-GB-en-it-T.mxliff', 0.86226240200644388)\n",
      "4  |  ('all_source_texts/ENG - Basic Modules_Food Intake_QNA_V59-MH-en-ko-T.mxliff', 0.85192681176509555)\n",
      "5  |  ('all_source_texts/ENG - Ziele_V59-MH-en-ko-T.mxliff', 0.80948561694311827)\n",
      "6  |  ('all_source_texts/ENG - Triage-Questions_V59-MH-en-ko-T.mxliff', 0.72801851581685351)\n",
      "7  |  ('all_source_texts/Hvad er mikrogr\\xf8nt_en-GB-en-it-T.mxliff', 0.72129101701576304)\n",
      "8  |  ('all_source_texts/De 12 varianter - blyanten_en-GB-en-it-T.mxliff', 0.5485315671811285)\n",
      "9  |  ('all_source_texts/900 GB_Company Profile_2015-en-ru-T.mxliff', 0.52348572222375156)\n",
      "10  |  ('all_source_texts/Personlig s\\xe6tning_en-GB-en-it-T.mxliff', 0.5082329616750243)\n"
     ]
    }
   ],
   "source": [
    "path = u\"all_source_texts/\"+\"ENG - Basic Modules_Eating Habits_V59-MH-en-ko-T.mxliff\"\n",
    "closestFile(path)"
   ]
  },
  {
   "cell_type": "code",
   "execution_count": null,
   "metadata": {
    "collapsed": true
   },
   "outputs": [],
   "source": []
  },
  {
   "cell_type": "code",
   "execution_count": null,
   "metadata": {
    "collapsed": true
   },
   "outputs": [],
   "source": []
  }
 ],
 "metadata": {
  "kernelspec": {
   "display_name": "Python 2",
   "language": "python",
   "name": "python2"
  }
 },
 "nbformat": 4,
 "nbformat_minor": 0
}
